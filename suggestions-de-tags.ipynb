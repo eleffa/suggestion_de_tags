{
 "cells": [
  {
   "cell_type": "code",
   "execution_count": 1,
   "id": "0e0cf6dc",
   "metadata": {
    "_cell_guid": "b1076dfc-b9ad-4769-8c92-a6c4dae69d19",
    "_uuid": "8f2839f25d086af736a60e9eeb907d3b93b6e0e5",
    "execution": {
     "iopub.execute_input": "2024-12-16T10:58:14.648502Z",
     "iopub.status.busy": "2024-12-16T10:58:14.648093Z",
     "iopub.status.idle": "2024-12-16T10:58:15.586499Z",
     "shell.execute_reply": "2024-12-16T10:58:15.585073Z"
    },
    "papermill": {
     "duration": 0.952297,
     "end_time": "2024-12-16T10:58:15.589045",
     "exception": false,
     "start_time": "2024-12-16T10:58:14.636748",
     "status": "completed"
    },
    "tags": []
   },
   "outputs": [
    {
     "name": "stdout",
     "output_type": "stream",
     "text": [
      "/kaggle/input/queryresults/QueryResults.csv\n"
     ]
    }
   ],
   "source": [
    "# This Python 3 environment comes with many helpful analytics libraries installed\n",
    "# It is defined by the kaggle/python Docker image: https://github.com/kaggle/docker-python\n",
    "# For example, here's several helpful packages to load\n",
    "\n",
    "import numpy as np # linear algebra\n",
    "import pandas as pd # data processing, CSV file I/O (e.g. pd.read_csv)\n",
    "\n",
    "# Input data files are available in the read-only \"../input/\" directory\n",
    "# For example, running this (by clicking run or pressing Shift+Enter) will list all files under the input directory\n",
    "\n",
    "import os\n",
    "for dirname, _, filenames in os.walk('/kaggle/input'):\n",
    "    for filename in filenames:\n",
    "        print(os.path.join(dirname, filename))\n",
    "\n",
    "# You can write up to 20GB to the current directory (/kaggle/working/) that gets preserved as output when you create a version using \"Save & Run All\" \n",
    "# You can also write temporary files to /kaggle/temp/, but they won't be saved outside of the current session"
   ]
  },
  {
   "cell_type": "markdown",
   "id": "5b4b5cd6",
   "metadata": {
    "papermill": {
     "duration": 0.007932,
     "end_time": "2024-12-16T10:58:15.606608",
     "exception": false,
     "start_time": "2024-12-16T10:58:15.598676",
     "status": "completed"
    },
    "tags": []
   },
   "source": [
    "Stack Overflow is a question-and-answer website for computer programmers.\r\n",
    "It was created in 2008. It features questions and answers on certain computer programming topics.\r\n",
    "As of March 2024 Stack Overflow has over 23 million registered users and has received over 24 million questions and 35 million answers.\r\n",
    "\r\n",
    "\r\n",
    "For a dataset of 10,000 question-answer pairs, we propose to:\r\n",
    "\r\n",
    "Perform document prepro\n",
    "essing\r\n",
    "Compare different LLM approaches (such as Gemini) to pred\n",
    "ct tags\r\n",
    "Implement, in the form of an API, a tag suggestion system for the site, ensuring that the questions are well-referenced and can be easily retrieved."
   ]
  },
  {
   "cell_type": "code",
   "execution_count": 2,
   "id": "d4973e73",
   "metadata": {
    "execution": {
     "iopub.execute_input": "2024-12-16T10:58:15.625935Z",
     "iopub.status.busy": "2024-12-16T10:58:15.624926Z",
     "iopub.status.idle": "2024-12-16T10:58:30.593469Z",
     "shell.execute_reply": "2024-12-16T10:58:30.591607Z"
    },
    "papermill": {
     "duration": 14.981437,
     "end_time": "2024-12-16T10:58:30.596601",
     "exception": false,
     "start_time": "2024-12-16T10:58:15.615164",
     "status": "completed"
    },
    "tags": []
   },
   "outputs": [
    {
     "name": "stdout",
     "output_type": "stream",
     "text": [
      "Collecting swifter\r\n",
      "  Downloading swifter-1.4.0.tar.gz (1.2 MB)\r\n",
      "\u001b[2K     \u001b[90m━━━━━━━━━━━━━━━━━━━━━━━━━━━━━━━━━━━━━━━━\u001b[0m \u001b[32m1.2/1.2 MB\u001b[0m \u001b[31m14.9 MB/s\u001b[0m eta \u001b[36m0:00:00\u001b[0m\r\n",
      "\u001b[?25h  Preparing metadata (setup.py) ... \u001b[?25l-\b \b\\\b \bdone\r\n",
      "\u001b[?25hRequirement already satisfied: pandas>=1.0.0 in /opt/conda/lib/python3.10/site-packages (from swifter) (2.2.3)\r\n",
      "Requirement already satisfied: psutil>=5.6.6 in /opt/conda/lib/python3.10/site-packages (from swifter) (5.9.3)\r\n",
      "Requirement already satisfied: dask>=2.10.0 in /opt/conda/lib/python3.10/site-packages (from dask[dataframe]>=2.10.0->swifter) (2024.11.2)\r\n",
      "Requirement already satisfied: tqdm>=4.33.0 in /opt/conda/lib/python3.10/site-packages (from swifter) (4.66.4)\r\n",
      "Requirement already satisfied: click>=8.1 in /opt/conda/lib/python3.10/site-packages (from dask>=2.10.0->dask[dataframe]>=2.10.0->swifter) (8.1.7)\r\n",
      "Requirement already satisfied: cloudpickle>=3.0.0 in /opt/conda/lib/python3.10/site-packages (from dask>=2.10.0->dask[dataframe]>=2.10.0->swifter) (3.1.0)\r\n",
      "Requirement already satisfied: fsspec>=2021.09.0 in /opt/conda/lib/python3.10/site-packages (from dask>=2.10.0->dask[dataframe]>=2.10.0->swifter) (2024.9.0)\r\n",
      "Requirement already satisfied: packaging>=20.0 in /opt/conda/lib/python3.10/site-packages (from dask>=2.10.0->dask[dataframe]>=2.10.0->swifter) (21.3)\r\n",
      "Requirement already satisfied: partd>=1.4.0 in /opt/conda/lib/python3.10/site-packages (from dask>=2.10.0->dask[dataframe]>=2.10.0->swifter) (1.4.2)\r\n",
      "Requirement already satisfied: pyyaml>=5.3.1 in /opt/conda/lib/python3.10/site-packages (from dask>=2.10.0->dask[dataframe]>=2.10.0->swifter) (6.0.2)\r\n",
      "Requirement already satisfied: toolz>=0.10.0 in /opt/conda/lib/python3.10/site-packages (from dask>=2.10.0->dask[dataframe]>=2.10.0->swifter) (0.12.1)\r\n",
      "Requirement already satisfied: importlib-metadata>=4.13.0 in /opt/conda/lib/python3.10/site-packages (from dask>=2.10.0->dask[dataframe]>=2.10.0->swifter) (7.0.0)\r\n",
      "Requirement already satisfied: dask-expr<1.2,>=1.1 in /opt/conda/lib/python3.10/site-packages (from dask[dataframe]>=2.10.0->swifter) (1.1.19)\r\n",
      "Requirement already satisfied: numpy>=1.22.4 in /opt/conda/lib/python3.10/site-packages (from pandas>=1.0.0->swifter) (1.26.4)\r\n",
      "Requirement already satisfied: python-dateutil>=2.8.2 in /opt/conda/lib/python3.10/site-packages (from pandas>=1.0.0->swifter) (2.9.0.post0)\r\n",
      "Requirement already satisfied: pytz>=2020.1 in /opt/conda/lib/python3.10/site-packages (from pandas>=1.0.0->swifter) (2024.1)\r\n",
      "Requirement already satisfied: tzdata>=2022.7 in /opt/conda/lib/python3.10/site-packages (from pandas>=1.0.0->swifter) (2024.1)\r\n",
      "Requirement already satisfied: pyarrow>=14.0.1 in /opt/conda/lib/python3.10/site-packages (from dask-expr<1.2,>=1.1->dask[dataframe]>=2.10.0->swifter) (18.1.0)\r\n",
      "Requirement already satisfied: zipp>=0.5 in /opt/conda/lib/python3.10/site-packages (from importlib-metadata>=4.13.0->dask>=2.10.0->dask[dataframe]>=2.10.0->swifter) (3.19.2)\r\n",
      "Requirement already satisfied: pyparsing!=3.0.5,>=2.0.2 in /opt/conda/lib/python3.10/site-packages (from packaging>=20.0->dask>=2.10.0->dask[dataframe]>=2.10.0->swifter) (3.1.2)\r\n",
      "Requirement already satisfied: locket in /opt/conda/lib/python3.10/site-packages (from partd>=1.4.0->dask>=2.10.0->dask[dataframe]>=2.10.0->swifter) (1.0.0)\r\n",
      "Requirement already satisfied: six>=1.5 in /opt/conda/lib/python3.10/site-packages (from python-dateutil>=2.8.2->pandas>=1.0.0->swifter) (1.16.0)\r\n",
      "Building wheels for collected packages: swifter\r\n",
      "  Building wheel for swifter (setup.py) ... \u001b[?25l-\b \b\\\b \b|\b \bdone\r\n",
      "\u001b[?25h  Created wheel for swifter: filename=swifter-1.4.0-py3-none-any.whl size=16507 sha256=212e93cbe63c01c755ed820df4eb98537dc9e94800d1c2762864e6eb90372f70\r\n",
      "  Stored in directory: /root/.cache/pip/wheels/e4/cf/51/0904952972ee2c7aa3709437065278dc534ec1b8d2ad41b443\r\n",
      "Successfully built swifter\r\n",
      "Installing collected packages: swifter\r\n",
      "Successfully installed swifter-1.4.0\r\n"
     ]
    }
   ],
   "source": [
    "!pip install swifter"
   ]
  },
  {
   "cell_type": "code",
   "execution_count": 3,
   "id": "7db6c63a",
   "metadata": {
    "execution": {
     "iopub.execute_input": "2024-12-16T10:58:30.620671Z",
     "iopub.status.busy": "2024-12-16T10:58:30.620271Z",
     "iopub.status.idle": "2024-12-16T10:58:56.971820Z",
     "shell.execute_reply": "2024-12-16T10:58:56.970656Z"
    },
    "papermill": {
     "duration": 26.367225,
     "end_time": "2024-12-16T10:58:56.974494",
     "exception": false,
     "start_time": "2024-12-16T10:58:30.607269",
     "status": "completed"
    },
    "tags": []
   },
   "outputs": [],
   "source": [
    "import pandas as pd\n",
    "from transformers import pipeline\n",
    "import swifter"
   ]
  },
  {
   "cell_type": "code",
   "execution_count": 4,
   "id": "286792a9",
   "metadata": {
    "execution": {
     "iopub.execute_input": "2024-12-16T10:58:56.994721Z",
     "iopub.status.busy": "2024-12-16T10:58:56.994318Z",
     "iopub.status.idle": "2024-12-16T10:58:58.572628Z",
     "shell.execute_reply": "2024-12-16T10:58:58.571535Z"
    },
    "papermill": {
     "duration": 1.591303,
     "end_time": "2024-12-16T10:58:58.575109",
     "exception": false,
     "start_time": "2024-12-16T10:58:56.983806",
     "status": "completed"
    },
    "tags": []
   },
   "outputs": [
    {
     "data": {
      "text/plain": [
       "46500"
      ]
     },
     "execution_count": 4,
     "metadata": {},
     "output_type": "execute_result"
    }
   ],
   "source": [
    "df = pd.read_csv(\"/kaggle/input/queryresults/QueryResults.csv\")\n",
    "df.shape[0]"
   ]
  },
  {
   "cell_type": "code",
   "execution_count": 5,
   "id": "c4f3a025",
   "metadata": {
    "execution": {
     "iopub.execute_input": "2024-12-16T10:58:58.595427Z",
     "iopub.status.busy": "2024-12-16T10:58:58.594993Z",
     "iopub.status.idle": "2024-12-16T10:58:58.602259Z",
     "shell.execute_reply": "2024-12-16T10:58:58.600931Z"
    },
    "papermill": {
     "duration": 0.020473,
     "end_time": "2024-12-16T10:58:58.604979",
     "exception": false,
     "start_time": "2024-12-16T10:58:58.584506",
     "status": "completed"
    },
    "tags": []
   },
   "outputs": [
    {
     "data": {
      "text/plain": [
       "(46500, 10)"
      ]
     },
     "execution_count": 5,
     "metadata": {},
     "output_type": "execute_result"
    }
   ],
   "source": [
    "df.shape"
   ]
  },
  {
   "cell_type": "code",
   "execution_count": 6,
   "id": "c69e5558",
   "metadata": {
    "execution": {
     "iopub.execute_input": "2024-12-16T10:58:58.626633Z",
     "iopub.status.busy": "2024-12-16T10:58:58.626254Z",
     "iopub.status.idle": "2024-12-16T10:58:58.631220Z",
     "shell.execute_reply": "2024-12-16T10:58:58.629965Z"
    },
    "papermill": {
     "duration": 0.017837,
     "end_time": "2024-12-16T10:58:58.633430",
     "exception": false,
     "start_time": "2024-12-16T10:58:58.615593",
     "status": "completed"
    },
    "tags": []
   },
   "outputs": [],
   "source": [
    "#df.to_csv('queryResult01.csv')"
   ]
  },
  {
   "cell_type": "code",
   "execution_count": 7,
   "id": "484eeac9",
   "metadata": {
    "execution": {
     "iopub.execute_input": "2024-12-16T10:58:58.654602Z",
     "iopub.status.busy": "2024-12-16T10:58:58.654242Z",
     "iopub.status.idle": "2024-12-16T10:58:58.679555Z",
     "shell.execute_reply": "2024-12-16T10:58:58.678353Z"
    },
    "papermill": {
     "duration": 0.038253,
     "end_time": "2024-12-16T10:58:58.681712",
     "exception": false,
     "start_time": "2024-12-16T10:58:58.643459",
     "status": "completed"
    },
    "tags": []
   },
   "outputs": [
    {
     "data": {
      "text/html": [
       "<div>\n",
       "<style scoped>\n",
       "    .dataframe tbody tr th:only-of-type {\n",
       "        vertical-align: middle;\n",
       "    }\n",
       "\n",
       "    .dataframe tbody tr th {\n",
       "        vertical-align: top;\n",
       "    }\n",
       "\n",
       "    .dataframe thead th {\n",
       "        text-align: right;\n",
       "    }\n",
       "</style>\n",
       "<table border=\"1\" class=\"dataframe\">\n",
       "  <thead>\n",
       "    <tr style=\"text-align: right;\">\n",
       "      <th></th>\n",
       "      <th>Id</th>\n",
       "      <th>CreationDate</th>\n",
       "      <th>Score</th>\n",
       "      <th>ViewCount</th>\n",
       "      <th>AnswerCount</th>\n",
       "      <th>CommentCount</th>\n",
       "      <th>FavoriteCount</th>\n",
       "      <th>Title</th>\n",
       "      <th>Body</th>\n",
       "      <th>Tags</th>\n",
       "    </tr>\n",
       "  </thead>\n",
       "  <tbody>\n",
       "    <tr>\n",
       "      <th>0</th>\n",
       "      <td>4</td>\n",
       "      <td>2008-07-31 21:42:52</td>\n",
       "      <td>795</td>\n",
       "      <td>72107</td>\n",
       "      <td>13</td>\n",
       "      <td>4</td>\n",
       "      <td>0.0</td>\n",
       "      <td>How to convert Decimal to Double in C#?</td>\n",
       "      <td>&lt;p&gt;I want to assign the decimal variable &amp;quot...</td>\n",
       "      <td>&lt;c#&gt;&lt;floating-point&gt;&lt;type-conversion&gt;&lt;double&gt;&lt;...</td>\n",
       "    </tr>\n",
       "    <tr>\n",
       "      <th>1</th>\n",
       "      <td>6</td>\n",
       "      <td>2008-07-31 22:08:08</td>\n",
       "      <td>319</td>\n",
       "      <td>23741</td>\n",
       "      <td>7</td>\n",
       "      <td>0</td>\n",
       "      <td>0.0</td>\n",
       "      <td>Why did the width collapse in the percentage w...</td>\n",
       "      <td>&lt;p&gt;I have an absolutely positioned &lt;code&gt;div&lt;/...</td>\n",
       "      <td>&lt;html&gt;&lt;css&gt;&lt;internet-explorer-7&gt;</td>\n",
       "    </tr>\n",
       "    <tr>\n",
       "      <th>2</th>\n",
       "      <td>9</td>\n",
       "      <td>2008-07-31 23:40:59</td>\n",
       "      <td>2211</td>\n",
       "      <td>797370</td>\n",
       "      <td>74</td>\n",
       "      <td>10</td>\n",
       "      <td>0.0</td>\n",
       "      <td>How do I calculate someone's age based on a Da...</td>\n",
       "      <td>&lt;p&gt;Given a &lt;code&gt;DateTime&lt;/code&gt; representing ...</td>\n",
       "      <td>&lt;c#&gt;&lt;.net&gt;&lt;datetime&gt;</td>\n",
       "    </tr>\n",
       "    <tr>\n",
       "      <th>3</th>\n",
       "      <td>11</td>\n",
       "      <td>2008-07-31 23:55:37</td>\n",
       "      <td>1645</td>\n",
       "      <td>198982</td>\n",
       "      <td>41</td>\n",
       "      <td>3</td>\n",
       "      <td>0.0</td>\n",
       "      <td>Calculate relative time in C#</td>\n",
       "      <td>&lt;p&gt;Given a specific &lt;code&gt;DateTime&lt;/code&gt; valu...</td>\n",
       "      <td>&lt;c#&gt;&lt;datetime&gt;&lt;time&gt;&lt;datediff&gt;&lt;relative-time-s...</td>\n",
       "    </tr>\n",
       "    <tr>\n",
       "      <th>4</th>\n",
       "      <td>13</td>\n",
       "      <td>2008-08-01 00:42:38</td>\n",
       "      <td>704</td>\n",
       "      <td>285740</td>\n",
       "      <td>27</td>\n",
       "      <td>10</td>\n",
       "      <td>0.0</td>\n",
       "      <td>Determine a user's timezone</td>\n",
       "      <td>&lt;p&gt;Is there a standard way for a web server to...</td>\n",
       "      <td>&lt;html&gt;&lt;browser&gt;&lt;timezone&gt;&lt;user-agent&gt;&lt;timezone...</td>\n",
       "    </tr>\n",
       "  </tbody>\n",
       "</table>\n",
       "</div>"
      ],
      "text/plain": [
       "   Id         CreationDate  Score  ViewCount  AnswerCount  CommentCount  \\\n",
       "0   4  2008-07-31 21:42:52    795      72107           13             4   \n",
       "1   6  2008-07-31 22:08:08    319      23741            7             0   \n",
       "2   9  2008-07-31 23:40:59   2211     797370           74            10   \n",
       "3  11  2008-07-31 23:55:37   1645     198982           41             3   \n",
       "4  13  2008-08-01 00:42:38    704     285740           27            10   \n",
       "\n",
       "   FavoriteCount                                              Title  \\\n",
       "0            0.0            How to convert Decimal to Double in C#?   \n",
       "1            0.0  Why did the width collapse in the percentage w...   \n",
       "2            0.0  How do I calculate someone's age based on a Da...   \n",
       "3            0.0                      Calculate relative time in C#   \n",
       "4            0.0                        Determine a user's timezone   \n",
       "\n",
       "                                                Body  \\\n",
       "0  <p>I want to assign the decimal variable &quot...   \n",
       "1  <p>I have an absolutely positioned <code>div</...   \n",
       "2  <p>Given a <code>DateTime</code> representing ...   \n",
       "3  <p>Given a specific <code>DateTime</code> valu...   \n",
       "4  <p>Is there a standard way for a web server to...   \n",
       "\n",
       "                                                Tags  \n",
       "0  <c#><floating-point><type-conversion><double><...  \n",
       "1                   <html><css><internet-explorer-7>  \n",
       "2                               <c#><.net><datetime>  \n",
       "3  <c#><datetime><time><datediff><relative-time-s...  \n",
       "4  <html><browser><timezone><user-agent><timezone...  "
      ]
     },
     "execution_count": 7,
     "metadata": {},
     "output_type": "execute_result"
    }
   ],
   "source": [
    "df.head()"
   ]
  },
  {
   "cell_type": "markdown",
   "id": "3942725e",
   "metadata": {
    "papermill": {
     "duration": 0.010192,
     "end_time": "2024-12-16T10:58:58.701632",
     "exception": false,
     "start_time": "2024-12-16T10:58:58.691440",
     "status": "completed"
    },
    "tags": []
   },
   "source": [
    "# Prétraitement"
   ]
  },
  {
   "cell_type": "markdown",
   "id": "32b4ae08",
   "metadata": {
    "papermill": {
     "duration": 0.00912,
     "end_time": "2024-12-16T10:58:58.720675",
     "exception": false,
     "start_time": "2024-12-16T10:58:58.711555",
     "status": "completed"
    },
    "tags": []
   },
   "source": [
    "## Nettoyage des tags"
   ]
  },
  {
   "cell_type": "code",
   "execution_count": 8,
   "id": "2110cd52",
   "metadata": {
    "execution": {
     "iopub.execute_input": "2024-12-16T10:58:58.741254Z",
     "iopub.status.busy": "2024-12-16T10:58:58.740871Z",
     "iopub.status.idle": "2024-12-16T10:58:59.089815Z",
     "shell.execute_reply": "2024-12-16T10:58:59.088673Z"
    },
    "papermill": {
     "duration": 0.36405,
     "end_time": "2024-12-16T10:58:59.094201",
     "exception": false,
     "start_time": "2024-12-16T10:58:58.730151",
     "status": "completed"
    },
    "tags": []
   },
   "outputs": [
    {
     "data": {
      "application/vnd.jupyter.widget-view+json": {
       "model_id": "0245b858bb534203a92ac2fcf4710fb2",
       "version_major": 2,
       "version_minor": 0
      },
      "text/plain": [
       "Pandas Apply:   0%|          | 0/46500 [00:00<?, ?it/s]"
      ]
     },
     "metadata": {},
     "output_type": "display_data"
    },
    {
     "data": {
      "application/vnd.jupyter.widget-view+json": {
       "model_id": "97c0af5cee6343cd826dcb4b65acc01e",
       "version_major": 2,
       "version_minor": 0
      },
      "text/plain": [
       "Pandas Apply:   0%|          | 0/46500 [00:00<?, ?it/s]"
      ]
     },
     "metadata": {},
     "output_type": "display_data"
    },
    {
     "data": {
      "application/vnd.jupyter.widget-view+json": {
       "model_id": "91876f14b15542ec8b160df47c6c9492",
       "version_major": 2,
       "version_minor": 0
      },
      "text/plain": [
       "Pandas Apply:   0%|          | 0/46500 [00:00<?, ?it/s]"
      ]
     },
     "metadata": {},
     "output_type": "display_data"
    },
    {
     "data": {
      "text/plain": [
       "0    [c#, floating-point, type-conversion, double, ...\n",
       "1                   [html, css, internet-explorer-7, ]\n",
       "2                               [c#, .net, datetime, ]\n",
       "3    [c#, datetime, time, datediff, relative-time-s...\n",
       "4    [html, browser, timezone, user-agent, timezone...\n",
       "Name: Tags, dtype: object"
      ]
     },
     "execution_count": 8,
     "metadata": {},
     "output_type": "execute_result"
    }
   ],
   "source": [
    "df['Tags'] = df['Tags'].swifter.apply(lambda x : x.replace('<', ''))\n",
    "df['Tags'] = df['Tags'].swifter.apply(lambda x : x.replace('>', ','))\n",
    "df['Tags'] = df['Tags'].swifter.apply(lambda x : x.split(','))\n",
    "df['Tags'].head()"
   ]
  },
  {
   "cell_type": "markdown",
   "id": "00b8c6b3",
   "metadata": {
    "papermill": {
     "duration": 0.010892,
     "end_time": "2024-12-16T10:58:59.115626",
     "exception": false,
     "start_time": "2024-12-16T10:58:59.104734",
     "status": "completed"
    },
    "tags": []
   },
   "source": [
    "## Nettoyage des titres"
   ]
  },
  {
   "cell_type": "code",
   "execution_count": 9,
   "id": "31751046",
   "metadata": {
    "execution": {
     "iopub.execute_input": "2024-12-16T10:58:59.139110Z",
     "iopub.status.busy": "2024-12-16T10:58:59.138666Z",
     "iopub.status.idle": "2024-12-16T10:59:02.062635Z",
     "shell.execute_reply": "2024-12-16T10:59:02.061315Z"
    },
    "papermill": {
     "duration": 2.939068,
     "end_time": "2024-12-16T10:59:02.065727",
     "exception": false,
     "start_time": "2024-12-16T10:58:59.126659",
     "status": "completed"
    },
    "tags": []
   },
   "outputs": [
    {
     "name": "stdout",
     "output_type": "stream",
     "text": [
      "the cat be run fast than the dog .\n"
     ]
    }
   ],
   "source": [
    "import spacy\n",
    "import string\n",
    "from nltk.corpus import stopwords\n",
    "\n",
    "# Charger le modèle spaCy (en anglais)\n",
    "nlp = spacy.load(\"en_core_web_sm\")\n",
    "\n",
    "def message_cleaning(message):\n",
    "    Test_punc_removed = [char for char in message if char not in string.punctuation]\n",
    "    Test_punc_removed_join = ''.join(Test_punc_removed)\n",
    "    #Test_punc_removed_join = ''.join([i for i in Test_punc_removed_join if not i.isdigit()]) # retirer les chiffres\n",
    "    Test_punc_removed_join_clean = [word.lower() for word in Test_punc_removed_join.split() if word.lower() not in stopwords.words('english')]\n",
    "    return ' '.join(Test_punc_removed_join_clean)\n",
    "\n",
    "def lemmatize_text_spacy(text):\n",
    "    \"\"\"\n",
    "    Lemmatize an entire text using spaCy\n",
    "    Input: a string (text)\n",
    "    Output: the lemmatized form of the text\n",
    "    \"\"\"\n",
    "    doc = nlp(text)\n",
    "    return \" \".join([token.lemma_ for token in doc])\n",
    "\n",
    "# Exemple d'utilisation\n",
    "text = \"The cats are running faster than the dogs.\"\n",
    "print(lemmatize_text_spacy(text))  \n",
    "# Output: \"the cat be run fast than the dog\""
   ]
  },
  {
   "cell_type": "code",
   "execution_count": 10,
   "id": "b474134b",
   "metadata": {
    "execution": {
     "iopub.execute_input": "2024-12-16T10:59:02.089285Z",
     "iopub.status.busy": "2024-12-16T10:59:02.088508Z",
     "iopub.status.idle": "2024-12-16T10:59:02.097747Z",
     "shell.execute_reply": "2024-12-16T10:59:02.096592Z"
    },
    "papermill": {
     "duration": 0.023262,
     "end_time": "2024-12-16T10:59:02.099842",
     "exception": false,
     "start_time": "2024-12-16T10:59:02.076580",
     "status": "completed"
    },
    "tags": []
   },
   "outputs": [
    {
     "data": {
      "text/plain": [
       "0                  How to convert Decimal to Double in C#?\n",
       "1        Why did the width collapse in the percentage w...\n",
       "2        How do I calculate someone's age based on a Da...\n",
       "3                            Calculate relative time in C#\n",
       "4                              Determine a user's timezone\n",
       "                               ...                        \n",
       "46495                        Flash loads twice workaround?\n",
       "46496    How do you create python methods(signature and...\n",
       "46497                               ETag vs Header Expires\n",
       "46498    How do I determine the longest similar portion...\n",
       "46499            How do you validate a binary search tree?\n",
       "Name: Title, Length: 46500, dtype: object"
      ]
     },
     "execution_count": 10,
     "metadata": {},
     "output_type": "execute_result"
    }
   ],
   "source": [
    "df['Title']"
   ]
  },
  {
   "cell_type": "code",
   "execution_count": 11,
   "id": "20df00b7",
   "metadata": {
    "execution": {
     "iopub.execute_input": "2024-12-16T10:59:02.122618Z",
     "iopub.status.busy": "2024-12-16T10:59:02.122246Z",
     "iopub.status.idle": "2024-12-16T11:05:19.457611Z",
     "shell.execute_reply": "2024-12-16T11:05:19.456283Z"
    },
    "papermill": {
     "duration": 377.349223,
     "end_time": "2024-12-16T11:05:19.459999",
     "exception": false,
     "start_time": "2024-12-16T10:59:02.110776",
     "status": "completed"
    },
    "tags": []
   },
   "outputs": [
    {
     "data": {
      "application/vnd.jupyter.widget-view+json": {
       "model_id": "bf537deee63046919503a91a372575cd",
       "version_major": 2,
       "version_minor": 0
      },
      "text/plain": [
       "Pandas Apply:   0%|          | 0/46500 [00:00<?, ?it/s]"
      ]
     },
     "metadata": {},
     "output_type": "display_data"
    },
    {
     "data": {
      "application/vnd.jupyter.widget-view+json": {
       "model_id": "002a46cf00904e06845c1fdaf6a14fae",
       "version_major": 2,
       "version_minor": 0
      },
      "text/plain": [
       "Pandas Apply:   0%|          | 0/46500 [00:00<?, ?it/s]"
      ]
     },
     "metadata": {},
     "output_type": "display_data"
    }
   ],
   "source": [
    "df['Title'] = df['Title'].swifter.apply(lemmatize_text_spacy)\n",
    "df['Title'] = df['Title'].swifter.apply(message_cleaning)"
   ]
  },
  {
   "cell_type": "code",
   "execution_count": 12,
   "id": "f96e7e00",
   "metadata": {
    "execution": {
     "iopub.execute_input": "2024-12-16T11:05:19.482954Z",
     "iopub.status.busy": "2024-12-16T11:05:19.482520Z",
     "iopub.status.idle": "2024-12-16T11:05:19.491281Z",
     "shell.execute_reply": "2024-12-16T11:05:19.490110Z"
    },
    "papermill": {
     "duration": 0.022964,
     "end_time": "2024-12-16T11:05:19.493686",
     "exception": false,
     "start_time": "2024-12-16T11:05:19.470722",
     "status": "completed"
    },
    "tags": []
   },
   "outputs": [
    {
     "data": {
      "text/plain": [
       "0                                 convert decimal double c\n",
       "1        width collapse percentage width child element ...\n",
       "2        calculate someone age base datetime type birthday\n",
       "3                                calculate relative time c\n",
       "4                                  determine user timezone\n",
       "                               ...                        \n",
       "46495                          flash load twice workaround\n",
       "46496          create python methodssignature content code\n",
       "46497                                etag vs header expire\n",
       "46498        determine long similar portion several string\n",
       "46499                          validate binary search tree\n",
       "Name: Title, Length: 46500, dtype: object"
      ]
     },
     "execution_count": 12,
     "metadata": {},
     "output_type": "execute_result"
    }
   ],
   "source": [
    "df['Title']"
   ]
  },
  {
   "cell_type": "markdown",
   "id": "5b0edf9e",
   "metadata": {
    "papermill": {
     "duration": 0.010189,
     "end_time": "2024-12-16T11:05:19.514418",
     "exception": false,
     "start_time": "2024-12-16T11:05:19.504229",
     "status": "completed"
    },
    "tags": []
   },
   "source": [
    "## Nettoyage du body"
   ]
  },
  {
   "cell_type": "code",
   "execution_count": 13,
   "id": "5020aa41",
   "metadata": {
    "execution": {
     "iopub.execute_input": "2024-12-16T11:05:19.537082Z",
     "iopub.status.busy": "2024-12-16T11:05:19.536657Z",
     "iopub.status.idle": "2024-12-16T11:05:19.543673Z",
     "shell.execute_reply": "2024-12-16T11:05:19.542416Z"
    },
    "papermill": {
     "duration": 0.020966,
     "end_time": "2024-12-16T11:05:19.545829",
     "exception": false,
     "start_time": "2024-12-16T11:05:19.524863",
     "status": "completed"
    },
    "tags": []
   },
   "outputs": [
    {
     "data": {
      "text/plain": [
       "'<p>I want to assign the decimal variable &quot;trans&quot; to the double variable &quot;this.Opacity&quot;.</p>\\n<pre class=\"lang-cs prettyprint-override\"><code>decimal trans = trackBar1.Value / 5000;\\nthis.Opacity = trans;\\n</code></pre>\\n<p>When I build the app it gives the following error:</p>\\n<blockquote>\\n<p>Cannot implicitly convert type decimal to double</p>\\n</blockquote>\\n'"
      ]
     },
     "execution_count": 13,
     "metadata": {},
     "output_type": "execute_result"
    }
   ],
   "source": [
    "df['Body'][0]"
   ]
  },
  {
   "cell_type": "code",
   "execution_count": 14,
   "id": "de9af433",
   "metadata": {
    "execution": {
     "iopub.execute_input": "2024-12-16T11:05:19.570403Z",
     "iopub.status.busy": "2024-12-16T11:05:19.569054Z",
     "iopub.status.idle": "2024-12-16T11:05:19.760682Z",
     "shell.execute_reply": "2024-12-16T11:05:19.759465Z"
    },
    "papermill": {
     "duration": 0.206197,
     "end_time": "2024-12-16T11:05:19.763125",
     "exception": false,
     "start_time": "2024-12-16T11:05:19.556928",
     "status": "completed"
    },
    "tags": []
   },
   "outputs": [],
   "source": [
    "from bs4 import BeautifulSoup\n",
    "\n",
    "def remove_code(text):\n",
    "    pointer=text.find('<code>')\n",
    "    while pointer!=-1:\n",
    "        ender=text.find(u'</code>')\n",
    "        text=text.replace(text[pointer:ender+7],' ')\n",
    "        pointer=text.find('<code>')\n",
    "    return text\n",
    "\n",
    "def remove_html(text):\n",
    "    return BeautifulSoup(text, 'lxml').get_text()"
   ]
  },
  {
   "cell_type": "code",
   "execution_count": 15,
   "id": "1ed4f1d7",
   "metadata": {
    "execution": {
     "iopub.execute_input": "2024-12-16T11:05:19.787812Z",
     "iopub.status.busy": "2024-12-16T11:05:19.786924Z",
     "iopub.status.idle": "2024-12-16T11:32:23.698303Z",
     "shell.execute_reply": "2024-12-16T11:32:23.697140Z"
    },
    "papermill": {
     "duration": 1623.926927,
     "end_time": "2024-12-16T11:32:23.700884",
     "exception": false,
     "start_time": "2024-12-16T11:05:19.773957",
     "status": "completed"
    },
    "tags": []
   },
   "outputs": [
    {
     "data": {
      "application/vnd.jupyter.widget-view+json": {
       "model_id": "ffb22646843648a38129a76a5a1da5ad",
       "version_major": 2,
       "version_minor": 0
      },
      "text/plain": [
       "Pandas Apply:   0%|          | 0/46500 [00:00<?, ?it/s]"
      ]
     },
     "metadata": {},
     "output_type": "display_data"
    },
    {
     "data": {
      "application/vnd.jupyter.widget-view+json": {
       "model_id": "dc14ffbec9e3418bb3028ad44645f0e2",
       "version_major": 2,
       "version_minor": 0
      },
      "text/plain": [
       "Pandas Apply:   0%|          | 0/46500 [00:00<?, ?it/s]"
      ]
     },
     "metadata": {},
     "output_type": "display_data"
    },
    {
     "data": {
      "application/vnd.jupyter.widget-view+json": {
       "model_id": "662323994e4141138333bad179d6fd9f",
       "version_major": 2,
       "version_minor": 0
      },
      "text/plain": [
       "Pandas Apply:   0%|          | 0/46500 [00:00<?, ?it/s]"
      ]
     },
     "metadata": {},
     "output_type": "display_data"
    },
    {
     "data": {
      "application/vnd.jupyter.widget-view+json": {
       "model_id": "f4b913a984d446a0ae414fc9a63dcf36",
       "version_major": 2,
       "version_minor": 0
      },
      "text/plain": [
       "Pandas Apply:   0%|          | 0/46500 [00:00<?, ?it/s]"
      ]
     },
     "metadata": {},
     "output_type": "display_data"
    }
   ],
   "source": [
    "df['Body'] = df['Body'].swifter.apply(remove_code)\n",
    "df['Body'] = df['Body'].swifter.apply(remove_html)\n",
    "df['Body'] = df['Body'].swifter.apply(lemmatize_text_spacy)\n",
    "df['Body'] = df['Body'].swifter.apply(message_cleaning)"
   ]
  },
  {
   "cell_type": "code",
   "execution_count": 16,
   "id": "8d28d3b2",
   "metadata": {
    "execution": {
     "iopub.execute_input": "2024-12-16T11:32:23.733088Z",
     "iopub.status.busy": "2024-12-16T11:32:23.732678Z",
     "iopub.status.idle": "2024-12-16T11:32:23.740166Z",
     "shell.execute_reply": "2024-12-16T11:32:23.738997Z"
    },
    "papermill": {
     "duration": 0.022279,
     "end_time": "2024-12-16T11:32:23.742498",
     "exception": false,
     "start_time": "2024-12-16T11:32:23.720219",
     "status": "completed"
    },
    "tags": []
   },
   "outputs": [
    {
     "data": {
      "text/plain": [
       "'want assign decimal variable tran double variable opacity build app give follow error implicitly convert type decimal double'"
      ]
     },
     "execution_count": 16,
     "metadata": {},
     "output_type": "execute_result"
    }
   ],
   "source": [
    "df['Body'][0]"
   ]
  },
  {
   "cell_type": "code",
   "execution_count": 17,
   "id": "fa88b801",
   "metadata": {
    "execution": {
     "iopub.execute_input": "2024-12-16T11:32:23.768173Z",
     "iopub.status.busy": "2024-12-16T11:32:23.767157Z",
     "iopub.status.idle": "2024-12-16T11:32:24.543074Z",
     "shell.execute_reply": "2024-12-16T11:32:24.541953Z"
    },
    "papermill": {
     "duration": 0.791916,
     "end_time": "2024-12-16T11:32:24.546113",
     "exception": false,
     "start_time": "2024-12-16T11:32:23.754197",
     "status": "completed"
    },
    "tags": []
   },
   "outputs": [],
   "source": [
    "df.to_csv('queryResult02.csv')"
   ]
  },
  {
   "cell_type": "markdown",
   "id": "e9eb8315",
   "metadata": {
    "papermill": {
     "duration": 0.010784,
     "end_time": "2024-12-16T11:32:24.570532",
     "exception": false,
     "start_time": "2024-12-16T11:32:24.559748",
     "status": "completed"
    },
    "tags": []
   },
   "source": [
    "# Analyse exploratoire"
   ]
  },
  {
   "cell_type": "code",
   "execution_count": 18,
   "id": "511d3de5",
   "metadata": {
    "execution": {
     "iopub.execute_input": "2024-12-16T11:32:24.595194Z",
     "iopub.status.busy": "2024-12-16T11:32:24.594042Z",
     "iopub.status.idle": "2024-12-16T11:32:24.643199Z",
     "shell.execute_reply": "2024-12-16T11:32:24.641963Z"
    },
    "papermill": {
     "duration": 0.06386,
     "end_time": "2024-12-16T11:32:24.645345",
     "exception": false,
     "start_time": "2024-12-16T11:32:24.581485",
     "status": "completed"
    },
    "tags": []
   },
   "outputs": [
    {
     "data": {
      "text/html": [
       "<div>\n",
       "<style scoped>\n",
       "    .dataframe tbody tr th:only-of-type {\n",
       "        vertical-align: middle;\n",
       "    }\n",
       "\n",
       "    .dataframe tbody tr th {\n",
       "        vertical-align: top;\n",
       "    }\n",
       "\n",
       "    .dataframe thead th {\n",
       "        text-align: right;\n",
       "    }\n",
       "</style>\n",
       "<table border=\"1\" class=\"dataframe\">\n",
       "  <thead>\n",
       "    <tr style=\"text-align: right;\">\n",
       "      <th></th>\n",
       "      <th>Score</th>\n",
       "      <th>ViewCount</th>\n",
       "      <th>AnswerCount</th>\n",
       "      <th>CommentCount</th>\n",
       "      <th>FavoriteCount</th>\n",
       "    </tr>\n",
       "  </thead>\n",
       "  <tbody>\n",
       "    <tr>\n",
       "      <th>count</th>\n",
       "      <td>46500.000000</td>\n",
       "      <td>4.650000e+04</td>\n",
       "      <td>46500.000000</td>\n",
       "      <td>46500.000000</td>\n",
       "      <td>39102.000000</td>\n",
       "    </tr>\n",
       "    <tr>\n",
       "      <th>mean</th>\n",
       "      <td>59.875785</td>\n",
       "      <td>5.359419e+04</td>\n",
       "      <td>6.613355</td>\n",
       "      <td>0.916086</td>\n",
       "      <td>0.006649</td>\n",
       "    </tr>\n",
       "    <tr>\n",
       "      <th>std</th>\n",
       "      <td>298.511639</td>\n",
       "      <td>2.086233e+05</td>\n",
       "      <td>7.491867</td>\n",
       "      <td>1.797081</td>\n",
       "      <td>1.149324</td>\n",
       "    </tr>\n",
       "    <tr>\n",
       "      <th>min</th>\n",
       "      <td>3.000000</td>\n",
       "      <td>7.900000e+01</td>\n",
       "      <td>0.000000</td>\n",
       "      <td>0.000000</td>\n",
       "      <td>0.000000</td>\n",
       "    </tr>\n",
       "    <tr>\n",
       "      <th>25%</th>\n",
       "      <td>5.000000</td>\n",
       "      <td>2.833000e+03</td>\n",
       "      <td>3.000000</td>\n",
       "      <td>0.000000</td>\n",
       "      <td>0.000000</td>\n",
       "    </tr>\n",
       "    <tr>\n",
       "      <th>50%</th>\n",
       "      <td>9.000000</td>\n",
       "      <td>8.470500e+03</td>\n",
       "      <td>5.000000</td>\n",
       "      <td>0.000000</td>\n",
       "      <td>0.000000</td>\n",
       "    </tr>\n",
       "    <tr>\n",
       "      <th>75%</th>\n",
       "      <td>27.000000</td>\n",
       "      <td>2.920075e+04</td>\n",
       "      <td>8.000000</td>\n",
       "      <td>1.000000</td>\n",
       "      <td>0.000000</td>\n",
       "    </tr>\n",
       "    <tr>\n",
       "      <th>max</th>\n",
       "      <td>13618.000000</td>\n",
       "      <td>5.953319e+06</td>\n",
       "      <td>518.000000</td>\n",
       "      <td>36.000000</td>\n",
       "      <td>225.000000</td>\n",
       "    </tr>\n",
       "  </tbody>\n",
       "</table>\n",
       "</div>"
      ],
      "text/plain": [
       "              Score     ViewCount   AnswerCount  CommentCount  FavoriteCount\n",
       "count  46500.000000  4.650000e+04  46500.000000  46500.000000   39102.000000\n",
       "mean      59.875785  5.359419e+04      6.613355      0.916086       0.006649\n",
       "std      298.511639  2.086233e+05      7.491867      1.797081       1.149324\n",
       "min        3.000000  7.900000e+01      0.000000      0.000000       0.000000\n",
       "25%        5.000000  2.833000e+03      3.000000      0.000000       0.000000\n",
       "50%        9.000000  8.470500e+03      5.000000      0.000000       0.000000\n",
       "75%       27.000000  2.920075e+04      8.000000      1.000000       0.000000\n",
       "max    13618.000000  5.953319e+06    518.000000     36.000000     225.000000"
      ]
     },
     "execution_count": 18,
     "metadata": {},
     "output_type": "execute_result"
    }
   ],
   "source": [
    "# Statistiques générales\n",
    "df[['Score','ViewCount','AnswerCount','CommentCount','FavoriteCount']].describe()"
   ]
  },
  {
   "cell_type": "code",
   "execution_count": 19,
   "id": "f0491ebb",
   "metadata": {
    "execution": {
     "iopub.execute_input": "2024-12-16T11:32:24.670431Z",
     "iopub.status.busy": "2024-12-16T11:32:24.670041Z",
     "iopub.status.idle": "2024-12-16T11:35:41.850659Z",
     "shell.execute_reply": "2024-12-16T11:35:41.849543Z"
    },
    "papermill": {
     "duration": 197.195341,
     "end_time": "2024-12-16T11:35:41.852796",
     "exception": false,
     "start_time": "2024-12-16T11:32:24.657455",
     "status": "completed"
    },
    "tags": []
   },
   "outputs": [
    {
     "data": {
      "text/plain": [
       "Tags\n",
       "[c#, ]                    160\n",
       "[c#, .net, ]              156\n",
       "[javascript, ]            127\n",
       "[asp.net, ]               118\n",
       "[python, ]                110\n",
       "[svn, ]                   103\n",
       "[html, css, ]              99\n",
       "[asp.net-mvc, ]            99\n",
       "[javascript, jquery, ]     94\n",
       "[sql-server, ]             92\n",
       "Name: count, dtype: int64"
      ]
     },
     "execution_count": 19,
     "metadata": {},
     "output_type": "execute_result"
    }
   ],
   "source": [
    "# Distribution des valeurs catégoriques\n",
    "df['Tags'].value_counts().head(10)"
   ]
  },
  {
   "cell_type": "markdown",
   "id": "c79d178e",
   "metadata": {
    "papermill": {
     "duration": 0.010885,
     "end_time": "2024-12-16T11:35:41.875230",
     "exception": false,
     "start_time": "2024-12-16T11:35:41.864345",
     "status": "completed"
    },
    "tags": []
   },
   "source": [
    "## Analyse des Questions les Plus Populaires"
   ]
  },
  {
   "cell_type": "code",
   "execution_count": 20,
   "id": "13a5a313",
   "metadata": {
    "execution": {
     "iopub.execute_input": "2024-12-16T11:35:41.899361Z",
     "iopub.status.busy": "2024-12-16T11:35:41.898978Z",
     "iopub.status.idle": "2024-12-16T11:35:41.927076Z",
     "shell.execute_reply": "2024-12-16T11:35:41.925824Z"
    },
    "papermill": {
     "duration": 0.042875,
     "end_time": "2024-12-16T11:35:41.929392",
     "exception": false,
     "start_time": "2024-12-16T11:35:41.886517",
     "status": "completed"
    },
    "tags": []
   },
   "outputs": [
    {
     "name": "stdout",
     "output_type": "stream",
     "text": [
      "                               Title  Score  ViewCount\n",
      "27082  difference git pull git fetch  13618    3370611\n",
      "20872           yield keyword python  12620    3202431\n",
      "44405          json content type use  11423    3760724\n",
      "32526            undo git add commit  11053    5081669\n",
      "22110               comment use json   9353    3418262\n"
     ]
    }
   ],
   "source": [
    "# Questions avec les scores les plus élevés\n",
    "popular_questions = df.sort_values(by='Score', ascending=False).head(5)\n",
    "print(popular_questions[['Title', 'Score', 'ViewCount']])"
   ]
  },
  {
   "cell_type": "markdown",
   "id": "529c760b",
   "metadata": {
    "papermill": {
     "duration": 0.011274,
     "end_time": "2024-12-16T11:35:41.952315",
     "exception": false,
     "start_time": "2024-12-16T11:35:41.941041",
     "status": "completed"
    },
    "tags": []
   },
   "source": [
    "## Exploration des Tags"
   ]
  },
  {
   "cell_type": "code",
   "execution_count": 21,
   "id": "44971cc1",
   "metadata": {
    "execution": {
     "iopub.execute_input": "2024-12-16T11:35:41.977444Z",
     "iopub.status.busy": "2024-12-16T11:35:41.977051Z",
     "iopub.status.idle": "2024-12-16T11:35:42.018764Z",
     "shell.execute_reply": "2024-12-16T11:35:42.017448Z"
    },
    "papermill": {
     "duration": 0.057043,
     "end_time": "2024-12-16T11:35:42.021147",
     "exception": false,
     "start_time": "2024-12-16T11:35:41.964104",
     "status": "completed"
    },
    "tags": []
   },
   "outputs": [
    {
     "name": "stdout",
     "output_type": "stream",
     "text": [
      "[('', 46500), ('c#', 6371), ('.net', 4849), ('java', 3845), ('c++', 2805), ('asp.net', 2294), ('javascript', 2190), ('python', 2181), ('php', 1681), ('sql', 1624)]\n"
     ]
    }
   ],
   "source": [
    "# Découper les tags et compter leur fréquence\n",
    "from collections import Counter\n",
    "\n",
    "tags = df['Tags'].tolist()\n",
    "flat_tags = [tag for sublist in tags for tag in sublist]\n",
    "tag_counts = Counter(flat_tags)\n",
    "most_common_tags = tag_counts.most_common(10)\n",
    "print(most_common_tags)"
   ]
  },
  {
   "cell_type": "code",
   "execution_count": 22,
   "id": "f8043324",
   "metadata": {
    "execution": {
     "iopub.execute_input": "2024-12-16T11:35:42.049419Z",
     "iopub.status.busy": "2024-12-16T11:35:42.049044Z",
     "iopub.status.idle": "2024-12-16T11:35:42.056599Z",
     "shell.execute_reply": "2024-12-16T11:35:42.055598Z"
    },
    "papermill": {
     "duration": 0.023145,
     "end_time": "2024-12-16T11:35:42.058725",
     "exception": false,
     "start_time": "2024-12-16T11:35:42.035580",
     "status": "completed"
    },
    "tags": []
   },
   "outputs": [
    {
     "data": {
      "text/plain": [
       "[('', 46500),\n",
       " ('c#', 6371),\n",
       " ('.net', 4849),\n",
       " ('java', 3845),\n",
       " ('c++', 2805),\n",
       " ('asp.net', 2294),\n",
       " ('javascript', 2190),\n",
       " ('python', 2181),\n",
       " ('php', 1681),\n",
       " ('sql', 1624)]"
      ]
     },
     "execution_count": 22,
     "metadata": {},
     "output_type": "execute_result"
    }
   ],
   "source": [
    "most_common_tags[0:10]"
   ]
  },
  {
   "cell_type": "markdown",
   "id": "30b91d76",
   "metadata": {
    "papermill": {
     "duration": 0.011114,
     "end_time": "2024-12-16T11:35:42.081565",
     "exception": false,
     "start_time": "2024-12-16T11:35:42.070451",
     "status": "completed"
    },
    "tags": []
   },
   "source": [
    "## Corrélations Entre les Variables Numériques"
   ]
  },
  {
   "cell_type": "code",
   "execution_count": 23,
   "id": "310c6827",
   "metadata": {
    "execution": {
     "iopub.execute_input": "2024-12-16T11:35:42.106930Z",
     "iopub.status.busy": "2024-12-16T11:35:42.106539Z",
     "iopub.status.idle": "2024-12-16T11:35:42.928481Z",
     "shell.execute_reply": "2024-12-16T11:35:42.927130Z"
    },
    "papermill": {
     "duration": 0.837674,
     "end_time": "2024-12-16T11:35:42.930860",
     "exception": false,
     "start_time": "2024-12-16T11:35:42.093186",
     "status": "completed"
    },
    "tags": []
   },
   "outputs": [
    {
     "data": {
      "image/png": "[encoded data removed]",
      "text/plain": [
       "<Figure size 640x480 with 2 Axes>"
      ]
     },
     "metadata": {},
     "output_type": "display_data"
    }
   ],
   "source": [
    "# Matrice de corrélation\n",
    "import matplotlib.pyplot as plt\n",
    "import seaborn as sns\n",
    "\n",
    "correlation_matrix = df[['Score', 'ViewCount', 'AnswerCount', 'CommentCount', 'FavoriteCount']].corr()\n",
    "sns.heatmap(correlation_matrix, annot=True, cmap='coolwarm')\n",
    "plt.title('Correlation Matrix')\n",
    "plt.show()\n"
   ]
  },
  {
   "cell_type": "markdown",
   "id": "2f89f1f7",
   "metadata": {
    "papermill": {
     "duration": 0.012224,
     "end_time": "2024-12-16T11:35:42.955910",
     "exception": false,
     "start_time": "2024-12-16T11:35:42.943686",
     "status": "completed"
    },
    "tags": []
   },
   "source": [
    "## Évolution du Nombre de Questions Dans le Temps"
   ]
  },
  {
   "cell_type": "code",
   "execution_count": 24,
   "id": "2a7f44db",
   "metadata": {
    "execution": {
     "iopub.execute_input": "2024-12-16T11:35:42.982921Z",
     "iopub.status.busy": "2024-12-16T11:35:42.982089Z",
     "iopub.status.idle": "2024-12-16T11:35:43.273628Z",
     "shell.execute_reply": "2024-12-16T11:35:43.272472Z"
    },
    "papermill": {
     "duration": 0.307534,
     "end_time": "2024-12-16T11:35:43.275839",
     "exception": false,
     "start_time": "2024-12-16T11:35:42.968305",
     "status": "completed"
    },
    "tags": []
   },
   "outputs": [
    {
     "data": {
      "image/png": "[encoded data removed]",
      "text/plain": [
       "<Figure size 640x480 with 1 Axes>"
      ]
     },
     "metadata": {},
     "output_type": "display_data"
    }
   ],
   "source": [
    "# Comptage des questions par année\n",
    "df['CreationYear'] = pd.to_datetime(df['CreationDate']).dt.year\n",
    "questions_per_year = df['CreationYear'].value_counts().sort_index()\n",
    "questions_per_year.plot(kind='bar', title='Number of Questions Per Year')\n",
    "plt.xlabel('Year')\n",
    "plt.ylabel('Number of Questions')\n",
    "plt.show()"
   ]
  },
  {
   "cell_type": "code",
   "execution_count": 25,
   "id": "3d5bd4b3",
   "metadata": {
    "execution": {
     "iopub.execute_input": "2024-12-16T11:35:43.303514Z",
     "iopub.status.busy": "2024-12-16T11:35:43.303120Z",
     "iopub.status.idle": "2024-12-16T11:35:53.673596Z",
     "shell.execute_reply": "2024-12-16T11:35:53.672134Z"
    },
    "papermill": {
     "duration": 10.38811,
     "end_time": "2024-12-16T11:35:53.676930",
     "exception": false,
     "start_time": "2024-12-16T11:35:43.288820",
     "status": "completed"
    },
    "tags": []
   },
   "outputs": [
    {
     "name": "stdout",
     "output_type": "stream",
     "text": [
      "Requirement already satisfied: wordcloud in /opt/conda/lib/python3.10/site-packages (1.9.3)\r\n",
      "Requirement already satisfied: matplotlib in /opt/conda/lib/python3.10/site-packages (3.7.5)\r\n",
      "Requirement already satisfied: numpy>=1.6.1 in /opt/conda/lib/python3.10/site-packages (from wordcloud) (1.26.4)\r\n",
      "Requirement already satisfied: pillow in /opt/conda/lib/python3.10/site-packages (from wordcloud) (10.3.0)\r\n",
      "Requirement already satisfied: contourpy>=1.0.1 in /opt/conda/lib/python3.10/site-packages (from matplotlib) (1.2.1)\r\n",
      "Requirement already satisfied: cycler>=0.10 in /opt/conda/lib/python3.10/site-packages (from matplotlib) (0.12.1)\r\n",
      "Requirement already satisfied: fonttools>=4.22.0 in /opt/conda/lib/python3.10/site-packages (from matplotlib) (4.53.0)\r\n",
      "Requirement already satisfied: kiwisolver>=1.0.1 in /opt/conda/lib/python3.10/site-packages (from matplotlib) (1.4.5)\r\n",
      "Requirement already satisfied: packaging>=20.0 in /opt/conda/lib/python3.10/site-packages (from matplotlib) (21.3)\r\n",
      "Requirement already satisfied: pyparsing>=2.3.1 in /opt/conda/lib/python3.10/site-packages (from matplotlib) (3.1.2)\r\n",
      "Requirement already satisfied: python-dateutil>=2.7 in /opt/conda/lib/python3.10/site-packages (from matplotlib) (2.9.0.post0)\r\n",
      "Requirement already satisfied: six>=1.5 in /opt/conda/lib/python3.10/site-packages (from python-dateutil>=2.7->matplotlib) (1.16.0)\r\n"
     ]
    }
   ],
   "source": [
    "!pip install wordcloud matplotlib"
   ]
  },
  {
   "cell_type": "code",
   "execution_count": 26,
   "id": "e8f0324b",
   "metadata": {
    "execution": {
     "iopub.execute_input": "2024-12-16T11:35:53.705959Z",
     "iopub.status.busy": "2024-12-16T11:35:53.704970Z",
     "iopub.status.idle": "2024-12-16T11:35:56.683244Z",
     "shell.execute_reply": "2024-12-16T11:35:56.682068Z"
    },
    "papermill": {
     "duration": 2.999106,
     "end_time": "2024-12-16T11:35:56.689283",
     "exception": false,
     "start_time": "2024-12-16T11:35:53.690177",
     "status": "completed"
    },
    "tags": []
   },
   "outputs": [
    {
     "data": {
      "image/png": "[encoded data removed]",
      "text/plain": [
       "<Figure size 1000x500 with 1 Axes>"
      ]
     },
     "metadata": {},
     "output_type": "display_data"
    }
   ],
   "source": [
    "from wordcloud import WordCloud\n",
    "import matplotlib.pyplot as plt\n",
    "\n",
    "# Combiner tous les titres des questions en un seul texte\n",
    "text = \" \".join(title for title in df['Title'] if isinstance(title, str))\n",
    "\n",
    "# Générer le nuage de mots\n",
    "wordcloud = WordCloud(width=800, height=400, background_color='white', colormap='viridis').generate(text)\n",
    "\n",
    "# Afficher le nuage de mots\n",
    "plt.figure(figsize=(10, 5))\n",
    "plt.imshow(wordcloud, interpolation='bilinear')\n",
    "plt.axis(\"off\")\n",
    "plt.title(\"Word Cloud of Question Titles\", fontsize=16)\n",
    "plt.show()\n"
   ]
  },
  {
   "cell_type": "markdown",
   "id": "7ee78566",
   "metadata": {
    "papermill": {
     "duration": 0.01845,
     "end_time": "2024-12-16T11:35:56.788763",
     "exception": false,
     "start_time": "2024-12-16T11:35:56.770313",
     "status": "completed"
    },
    "tags": []
   },
   "source": [
    "## Longueur moyenne des questions"
   ]
  },
  {
   "cell_type": "code",
   "execution_count": 27,
   "id": "c050d533",
   "metadata": {
    "execution": {
     "iopub.execute_input": "2024-12-16T11:35:56.828381Z",
     "iopub.status.busy": "2024-12-16T11:35:56.827543Z",
     "iopub.status.idle": "2024-12-16T11:35:57.301250Z",
     "shell.execute_reply": "2024-12-16T11:35:57.300106Z"
    },
    "papermill": {
     "duration": 0.495989,
     "end_time": "2024-12-16T11:35:57.303402",
     "exception": false,
     "start_time": "2024-12-16T11:35:56.807413",
     "status": "completed"
    },
    "tags": []
   },
   "outputs": [
    {
     "data": {
      "text/html": [
       "<div>\n",
       "<style scoped>\n",
       "    .dataframe tbody tr th:only-of-type {\n",
       "        vertical-align: middle;\n",
       "    }\n",
       "\n",
       "    .dataframe tbody tr th {\n",
       "        vertical-align: top;\n",
       "    }\n",
       "\n",
       "    .dataframe thead th {\n",
       "        text-align: right;\n",
       "    }\n",
       "</style>\n",
       "<table border=\"1\" class=\"dataframe\">\n",
       "  <thead>\n",
       "    <tr style=\"text-align: right;\">\n",
       "      <th></th>\n",
       "      <th>Id</th>\n",
       "      <th>CreationDate</th>\n",
       "      <th>Score</th>\n",
       "      <th>ViewCount</th>\n",
       "      <th>AnswerCount</th>\n",
       "      <th>CommentCount</th>\n",
       "      <th>FavoriteCount</th>\n",
       "      <th>Title</th>\n",
       "      <th>Body</th>\n",
       "      <th>Tags</th>\n",
       "      <th>CreationYear</th>\n",
       "      <th>body_length</th>\n",
       "    </tr>\n",
       "  </thead>\n",
       "  <tbody>\n",
       "    <tr>\n",
       "      <th>0</th>\n",
       "      <td>4</td>\n",
       "      <td>2008-07-31 21:42:52</td>\n",
       "      <td>795</td>\n",
       "      <td>72107</td>\n",
       "      <td>13</td>\n",
       "      <td>4</td>\n",
       "      <td>0.0</td>\n",
       "      <td>convert decimal double c</td>\n",
       "      <td>want assign decimal variable tran double varia...</td>\n",
       "      <td>[c#, floating-point, type-conversion, double, ...</td>\n",
       "      <td>2008</td>\n",
       "      <td>18</td>\n",
       "    </tr>\n",
       "    <tr>\n",
       "      <th>1</th>\n",
       "      <td>6</td>\n",
       "      <td>2008-07-31 22:08:08</td>\n",
       "      <td>319</td>\n",
       "      <td>23741</td>\n",
       "      <td>7</td>\n",
       "      <td>0</td>\n",
       "      <td>0.0</td>\n",
       "      <td>width collapse percentage width child element ...</td>\n",
       "      <td>absolutely position contain several child one ...</td>\n",
       "      <td>[html, css, internet-explorer-7, ]</td>\n",
       "      <td>2008</td>\n",
       "      <td>33</td>\n",
       "    </tr>\n",
       "    <tr>\n",
       "      <th>2</th>\n",
       "      <td>9</td>\n",
       "      <td>2008-07-31 23:40:59</td>\n",
       "      <td>2211</td>\n",
       "      <td>797370</td>\n",
       "      <td>74</td>\n",
       "      <td>10</td>\n",
       "      <td>0.0</td>\n",
       "      <td>calculate someone age base datetime type birthday</td>\n",
       "      <td>give represent person birthday calculate age year</td>\n",
       "      <td>[c#, .net, datetime, ]</td>\n",
       "      <td>2008</td>\n",
       "      <td>7</td>\n",
       "    </tr>\n",
       "    <tr>\n",
       "      <th>3</th>\n",
       "      <td>11</td>\n",
       "      <td>2008-07-31 23:55:37</td>\n",
       "      <td>1645</td>\n",
       "      <td>198982</td>\n",
       "      <td>41</td>\n",
       "      <td>3</td>\n",
       "      <td>0.0</td>\n",
       "      <td>calculate relative time c</td>\n",
       "      <td>give specific value display relative time like</td>\n",
       "      <td>[c#, datetime, time, datediff, relative-time-s...</td>\n",
       "      <td>2008</td>\n",
       "      <td>7</td>\n",
       "    </tr>\n",
       "    <tr>\n",
       "      <th>4</th>\n",
       "      <td>13</td>\n",
       "      <td>2008-08-01 00:42:38</td>\n",
       "      <td>704</td>\n",
       "      <td>285740</td>\n",
       "      <td>27</td>\n",
       "      <td>10</td>\n",
       "      <td>0.0</td>\n",
       "      <td>determine user timezone</td>\n",
       "      <td>standard way web server able determine user ti...</td>\n",
       "      <td>[html, browser, timezone, user-agent, timezone...</td>\n",
       "      <td>2008</td>\n",
       "      <td>16</td>\n",
       "    </tr>\n",
       "  </tbody>\n",
       "</table>\n",
       "</div>"
      ],
      "text/plain": [
       "   Id         CreationDate  Score  ViewCount  AnswerCount  CommentCount  \\\n",
       "0   4  2008-07-31 21:42:52    795      72107           13             4   \n",
       "1   6  2008-07-31 22:08:08    319      23741            7             0   \n",
       "2   9  2008-07-31 23:40:59   2211     797370           74            10   \n",
       "3  11  2008-07-31 23:55:37   1645     198982           41             3   \n",
       "4  13  2008-08-01 00:42:38    704     285740           27            10   \n",
       "\n",
       "   FavoriteCount                                              Title  \\\n",
       "0            0.0                           convert decimal double c   \n",
       "1            0.0  width collapse percentage width child element ...   \n",
       "2            0.0  calculate someone age base datetime type birthday   \n",
       "3            0.0                          calculate relative time c   \n",
       "4            0.0                            determine user timezone   \n",
       "\n",
       "                                                Body  \\\n",
       "0  want assign decimal variable tran double varia...   \n",
       "1  absolutely position contain several child one ...   \n",
       "2  give represent person birthday calculate age year   \n",
       "3     give specific value display relative time like   \n",
       "4  standard way web server able determine user ti...   \n",
       "\n",
       "                                                Tags  CreationYear  \\\n",
       "0  [c#, floating-point, type-conversion, double, ...          2008   \n",
       "1                 [html, css, internet-explorer-7, ]          2008   \n",
       "2                             [c#, .net, datetime, ]          2008   \n",
       "3  [c#, datetime, time, datediff, relative-time-s...          2008   \n",
       "4  [html, browser, timezone, user-agent, timezone...          2008   \n",
       "\n",
       "   body_length  \n",
       "0           18  \n",
       "1           33  \n",
       "2            7  \n",
       "3            7  \n",
       "4           16  "
      ]
     },
     "execution_count": 27,
     "metadata": {},
     "output_type": "execute_result"
    }
   ],
   "source": [
    "def cal_len(data):\n",
    "    return len(data)\n",
    "\n",
    "df['body_length']= df['Body'].str.split().apply(lambda z:cal_len(z))\n",
    "df.head()"
   ]
  },
  {
   "cell_type": "code",
   "execution_count": 28,
   "id": "b7ef7b63",
   "metadata": {
    "execution": {
     "iopub.execute_input": "2024-12-16T11:35:57.343797Z",
     "iopub.status.busy": "2024-12-16T11:35:57.343406Z",
     "iopub.status.idle": "2024-12-16T11:35:57.354045Z",
     "shell.execute_reply": "2024-12-16T11:35:57.352992Z"
    },
    "papermill": {
     "duration": 0.033549,
     "end_time": "2024-12-16T11:35:57.356223",
     "exception": false,
     "start_time": "2024-12-16T11:35:57.322674",
     "status": "completed"
    },
    "tags": []
   },
   "outputs": [
    {
     "data": {
      "text/plain": [
       "1959    long ago beginning coder try find good book tu...\n",
       "Name: Body, dtype: object"
      ]
     },
     "execution_count": 28,
     "metadata": {},
     "output_type": "execute_result"
    }
   ],
   "source": [
    "df[df['body_length']==df['body_length'].max()]['Body']"
   ]
  },
  {
   "cell_type": "code",
   "execution_count": 29,
   "id": "9d9d172f",
   "metadata": {
    "execution": {
     "iopub.execute_input": "2024-12-16T11:35:57.396380Z",
     "iopub.status.busy": "2024-12-16T11:35:57.395547Z",
     "iopub.status.idle": "2024-12-16T11:35:57.405643Z",
     "shell.execute_reply": "2024-12-16T11:35:57.404570Z"
    },
    "papermill": {
     "duration": 0.032679,
     "end_time": "2024-12-16T11:35:57.407952",
     "exception": false,
     "start_time": "2024-12-16T11:35:57.375273",
     "status": "completed"
    },
    "tags": []
   },
   "outputs": [
    {
     "data": {
      "text/plain": [
       "8742     \n",
       "11504    \n",
       "14602    \n",
       "14850    \n",
       "18543    \n",
       "27224    \n",
       "27454    \n",
       "30694    \n",
       "31277    \n",
       "33037    \n",
       "38264    \n",
       "38763    \n",
       "38989    \n",
       "39693    \n",
       "45901    \n",
       "Name: Body, dtype: object"
      ]
     },
     "execution_count": 29,
     "metadata": {},
     "output_type": "execute_result"
    }
   ],
   "source": [
    "df[df['body_length']==df['body_length'].min()]['Body']"
   ]
  },
  {
   "cell_type": "code",
   "execution_count": 30,
   "id": "92d9643d",
   "metadata": {
    "execution": {
     "iopub.execute_input": "2024-12-16T11:35:57.449849Z",
     "iopub.status.busy": "2024-12-16T11:35:57.448881Z",
     "iopub.status.idle": "2024-12-16T11:35:57.455972Z",
     "shell.execute_reply": "2024-12-16T11:35:57.454977Z"
    },
    "papermill": {
     "duration": 0.030525,
     "end_time": "2024-12-16T11:35:57.458288",
     "exception": false,
     "start_time": "2024-12-16T11:35:57.427763",
     "status": "completed"
    },
    "tags": []
   },
   "outputs": [
    {
     "data": {
      "text/plain": [
       "0"
      ]
     },
     "execution_count": 30,
     "metadata": {},
     "output_type": "execute_result"
    }
   ],
   "source": [
    "df['body_length'].min()"
   ]
  },
  {
   "cell_type": "code",
   "execution_count": 31,
   "id": "b0b71afa",
   "metadata": {
    "execution": {
     "iopub.execute_input": "2024-12-16T11:35:57.499371Z",
     "iopub.status.busy": "2024-12-16T11:35:57.498952Z",
     "iopub.status.idle": "2024-12-16T11:35:57.506994Z",
     "shell.execute_reply": "2024-12-16T11:35:57.505651Z"
    },
    "papermill": {
     "duration": 0.031557,
     "end_time": "2024-12-16T11:35:57.509356",
     "exception": false,
     "start_time": "2024-12-16T11:35:57.477799",
     "status": "completed"
    },
    "tags": []
   },
   "outputs": [
    {
     "data": {
      "text/plain": [
       "763"
      ]
     },
     "execution_count": 31,
     "metadata": {},
     "output_type": "execute_result"
    }
   ],
   "source": [
    "df['body_length'].max()"
   ]
  },
  {
   "cell_type": "markdown",
   "id": "e9ff514d",
   "metadata": {
    "papermill": {
     "duration": 0.019313,
     "end_time": "2024-12-16T11:35:57.548345",
     "exception": false,
     "start_time": "2024-12-16T11:35:57.529032",
     "status": "completed"
    },
    "tags": []
   },
   "source": [
    "## Distribution des longueurs des abstracts"
   ]
  },
  {
   "cell_type": "code",
   "execution_count": 32,
   "id": "e67e09a3",
   "metadata": {
    "execution": {
     "iopub.execute_input": "2024-12-16T11:35:57.590321Z",
     "iopub.status.busy": "2024-12-16T11:35:57.589890Z",
     "iopub.status.idle": "2024-12-16T11:35:57.596614Z",
     "shell.execute_reply": "2024-12-16T11:35:57.595520Z"
    },
    "papermill": {
     "duration": 0.030342,
     "end_time": "2024-12-16T11:35:57.598772",
     "exception": false,
     "start_time": "2024-12-16T11:35:57.568430",
     "status": "completed"
    },
    "tags": []
   },
   "outputs": [],
   "source": [
    "#Create generic plotter with Seaborn\n",
    "def plot_count(count_ones,count_zeros,title_1,title_2,subtitle):\n",
    "    fig,(ax1,ax2)=plt.subplots(1,2,figsize=(15,5))\n",
    "    sns.distplot(count_zeros,ax=ax1,color='Blue')\n",
    "    ax1.set_title(title_1)\n",
    "    fig.suptitle(subtitle)\n",
    "    plt.show()"
   ]
  },
  {
   "cell_type": "code",
   "execution_count": 33,
   "id": "b1967f4d",
   "metadata": {
    "execution": {
     "iopub.execute_input": "2024-12-16T11:35:57.640912Z",
     "iopub.status.busy": "2024-12-16T11:35:57.640534Z",
     "iopub.status.idle": "2024-12-16T11:35:58.432036Z",
     "shell.execute_reply": "2024-12-16T11:35:58.430671Z"
    },
    "papermill": {
     "duration": 0.815819,
     "end_time": "2024-12-16T11:35:58.434530",
     "exception": false,
     "start_time": "2024-12-16T11:35:57.618711",
     "status": "completed"
    },
    "tags": []
   },
   "outputs": [
    {
     "data": {
      "image/png": "[encoded data removed]",
      "text/plain": [
       "<Figure size 1000x600 with 1 Axes>"
      ]
     },
     "metadata": {},
     "output_type": "display_data"
    }
   ],
   "source": [
    "# Tracer l'histogramme\n",
    "plt.figure(figsize=(10, 6))\n",
    "sns.histplot(\n",
    "    df['body_length'], \n",
    "    bins=30,  # Nombre de bins\n",
    "    kde=True,  # Ajouter une courbe KDE pour visualiser la densité\n",
    "    color='green'  # Couleur de l'histogramme\n",
    ")\n",
    "plt.title('Distribution des Longueurs des Questions', fontsize=16)\n",
    "plt.xlabel('Longueur des Questions (en caractères)', fontsize=12)\n",
    "plt.ylabel('Fréquence', fontsize=12)\n",
    "plt.grid(axis='y', linestyle='--', alpha=0.7)  # Ajouter une grille pour plus de lisibilité\n",
    "plt.tight_layout()  # Ajuster les marges pour éviter que le graphique soit coupé\n",
    "plt.show()"
   ]
  },
  {
   "cell_type": "markdown",
   "id": "19d2029f",
   "metadata": {
    "papermill": {
     "duration": 0.020846,
     "end_time": "2024-12-16T11:35:58.477602",
     "exception": false,
     "start_time": "2024-12-16T11:35:58.456756",
     "status": "completed"
    },
    "tags": []
   },
   "source": [
    "# Modèles LLM"
   ]
  },
  {
   "cell_type": "code",
   "execution_count": null,
   "id": "3490db7a",
   "metadata": {
    "papermill": {
     "duration": 0.020269,
     "end_time": "2024-12-16T11:35:58.518508",
     "exception": false,
     "start_time": "2024-12-16T11:35:58.498239",
     "status": "completed"
    },
    "tags": []
   },
   "outputs": [],
   "source": []
  }
 ],
 "metadata": {
  "kaggle": {
   "accelerator": "none",
   "dataSources": [
    {
     "datasetId": 6287476,
     "sourceId": 10179061,
     "sourceType": "datasetVersion"
    }
   ],
   "dockerImageVersionId": 30804,
   "isGpuEnabled": false,
   "isInternetEnabled": true,
   "language": "python",
   "sourceType": "notebook"
  },
  "kernelspec": {
   "display_name": "Python 3",
   "language": "python",
   "name": "python3"
  },
  "language_info": {
   "codemirror_mode": {
    "name": "ipython",
    "version": 3
   },
   "file_extension": ".py",
   "mimetype": "text/x-python",
   "name": "python",
   "nbconvert_exporter": "python",
   "pygments_lexer": "ipython3",
   "version": "3.10.14"
  },
  "papermill": {
   "default_parameters": {},
   "duration": 2269.568911,
   "end_time": "2024-12-16T11:36:01.458756",
   "environment_variables": {},
   "exception": null,
   "input_path": "__notebook__.ipynb",
   "output_path": "__notebook__.ipynb",
   "parameters": {},
   "start_time": "2024-12-16T10:58:11.889845",
   "version": "2.6.0"
  },
  "widgets": {
   "application/vnd.jupyter.widget-state+json": {
    "state": {
     "002a46cf00904e06845c1fdaf6a14fae": {
      "model_module": "@jupyter-widgets/controls",
      "model_module_version": "2.0.0",
      "model_name": "HBoxModel",
      "state": {
       "_dom_classes": [],
       "_model_module": "@jupyter-widgets/controls",
       "_model_module_version": "2.0.0",
       "_model_name": "HBoxModel",
       "_view_count": null,
       "_view_module": "@jupyter-widgets/controls",
       "_view_module_version": "2.0.0",
       "_view_name": "HBoxView",
       "box_style": "",
       "children": [
        "IPY_MODEL_3ad6d943c0cf42c7bdbea1b18f900983",
        "IPY_MODEL_cdf074f04a784ce98bf6ec94c477f70a",
        "IPY_MODEL_eede78e0e8054b06ae07df01e12cd455"
       ],
       "layout": "IPY_MODEL_019ca0e5743c4120819a6e2289b41460",
       "tabbable": null,
       "tooltip": null
      }
     },
     "016e6f206f654e73b8ffd97e54fd5020": {
      "model_module": "@jupyter-widgets/controls",
      "model_module_version": "2.0.0",
      "model_name": "HTMLStyleModel",
      "state": {
       "_model_module": "@jupyter-widgets/controls",
       "_model_module_version": "2.0.0",
       "_model_name": "HTMLStyleModel",
       "_view_count": null,
       "_view_module": "@jupyter-widgets/base",
       "_view_module_version": "2.0.0",
       "_view_name": "StyleView",
       "background": null,
       "description_width": "",
       "font_size": null,
       "text_color": null
      }
     },
     "019ca0e5743c4120819a6e2289b41460": {
      "model_module": "@jupyter-widgets/base",
      "model_module_version": "2.0.0",
      "model_name": "LayoutModel",
      "state": {
       "_model_module": "@jupyter-widgets/base",
       "_model_module_version": "2.0.0",
       "_model_name": "LayoutModel",
       "_view_count": null,
       "_view_module": "@jupyter-widgets/base",
       "_view_module_version": "2.0.0",
       "_view_name": "LayoutView",
       "align_content": null,
       "align_items": null,
       "align_self": null,
       "border_bottom": null,
       "border_left": null,
       "border_right": null,
       "border_top": null,
       "bottom": null,
       "display": null,
       "flex": null,
       "flex_flow": null,
       "grid_area": null,
       "grid_auto_columns": null,
       "grid_auto_flow": null,
       "grid_auto_rows": null,
       "grid_column": null,
       "grid_gap": null,
       "grid_row": null,
       "grid_template_areas": null,
       "grid_template_columns": null,
       "grid_template_rows": null,
       "height": null,
       "justify_content": null,
       "justify_items": null,
       "left": null,
       "margin": null,
       "max_height": null,
       "max_width": null,
       "min_height": null,
       "min_width": null,
       "object_fit": null,
       "object_position": null,
       "order": null,
       "overflow": null,
       "padding": null,
       "right": null,
       "top": null,
       "visibility": null,
       "width": null
      }
     },
     "0245b858bb534203a92ac2fcf4710fb2": {
      "model_module": "@jupyter-widgets/controls",
      "model_module_version": "2.0.0",
      "model_name": "HBoxModel",
      "state": {
       "_dom_classes": [],
       "_model_module": "@jupyter-widgets/controls",
       "_model_module_version": "2.0.0",
       "_model_name": "HBoxModel",
       "_view_count": null,
       "_view_module": "@jupyter-widgets/controls",
       "_view_module_version": "2.0.0",
       "_view_name": "HBoxView",
       "box_style": "",
       "children": [
        "IPY_MODEL_9e5775e7a52143de864f8b535c2e7901",
        "IPY_MODEL_0bff92cb4d2b48abb22d8b14ed558700",
        "IPY_MODEL_fc6f6de8926b4767928511c769cad496"
       ],
       "layout": "IPY_MODEL_1b030012585746fabfc7bb2c4c2878c6",
       "tabbable": null,
       "tooltip": null
      }
     },
     "039afac7b2674aea8903152bd953a6c3": {
      "model_module": "@jupyter-widgets/controls",
      "model_module_version": "2.0.0",
      "model_name": "HTMLStyleModel",
      "state": {
       "_model_module": "@jupyter-widgets/controls",
       "_model_module_version": "2.0.0",
       "_model_name": "HTMLStyleModel",
       "_view_count": null,
       "_view_module": "@jupyter-widgets/base",
       "_view_module_version": "2.0.0",
       "_view_name": "StyleView",
       "background": null,
       "description_width": "",
       "font_size": null,
       "text_color": null
      }
     },
     "06301778fd22497d9d7fd664a9576184": {
      "model_module": "@jupyter-widgets/controls",
      "model_module_version": "2.0.0",
      "model_name": "HTMLStyleModel",
      "state": {
       "_model_module": "@jupyter-widgets/controls",
       "_model_module_version": "2.0.0",
       "_model_name": "HTMLStyleModel",
       "_view_count": null,
       "_view_module": "@jupyter-widgets/base",
       "_view_module_version": "2.0.0",
       "_view_name": "StyleView",
       "background": null,
       "description_width": "",
       "font_size": null,
       "text_color": null
      }
     },
     "072ce7f46970443188bf61d18f2af949": {
      "model_module": "@jupyter-widgets/controls",
      "model_module_version": "2.0.0",
      "model_name": "HTMLModel",
      "state": {
       "_dom_classes": [],
       "_model_module": "@jupyter-widgets/controls",
       "_model_module_version": "2.0.0",
       "_model_name": "HTMLModel",
       "_view_count": null,
       "_view_module": "@jupyter-widgets/controls",
       "_view_module_version": "2.0.0",
       "_view_name": "HTMLView",
       "description": "",
       "description_allow_html": false,
       "layout": "IPY_MODEL_b3faf71b2b8c470bbd2984b88c37e9de",
       "placeholder": "​",
       "style": "IPY_MODEL_c998253bd3b349e1b67faa3c16989a7c",
       "tabbable": null,
       "tooltip": null,
       "value": "Pandas Apply: 100%"
      }
     },
     "08a64210b9104435bbf4efc4c1659613": {
      "model_module": "@jupyter-widgets/controls",
      "model_module_version": "2.0.0",
      "model_name": "ProgressStyleModel",
      "state": {
       "_model_module": "@jupyter-widgets/controls",
       "_model_module_version": "2.0.0",
       "_model_name": "ProgressStyleModel",
       "_view_count": null,
       "_view_module": "@jupyter-widgets/base",
       "_view_module_version": "2.0.0",
       "_view_name": "StyleView",
       "bar_color": null,
       "description_width": ""
      }
     },
     "0bff92cb4d2b48abb22d8b14ed558700": {
      "model_module": "@jupyter-widgets/controls",
      "model_module_version": "2.0.0",
      "model_name": "FloatProgressModel",
      "state": {
       "_dom_classes": [],
       "_model_module": "@jupyter-widgets/controls",
       "_model_module_version": "2.0.0",
       "_model_name": "FloatProgressModel",
       "_view_count": null,
       "_view_module": "@jupyter-widgets/controls",
       "_view_module_version": "2.0.0",
       "_view_name": "ProgressView",
       "bar_style": "success",
       "description": "",
       "description_allow_html": false,
       "layout": "IPY_MODEL_2cc49427eca54b4aaf15cf83026c4ac1",
       "max": 46500.0,
       "min": 0.0,
       "orientation": "horizontal",
       "style": "IPY_MODEL_e63627dfcb4840b789f001dbe1e0efba",
       "tabbable": null,
       "tooltip": null,
       "value": 46500.0
      }
     },
     "0deb78da0cbf4b95a6c70691a55d68c8": {
      "model_module": "@jupyter-widgets/controls",
      "model_module_version": "2.0.0",
      "model_name": "ProgressStyleModel",
      "state": {
       "_model_module": "@jupyter-widgets/controls",
       "_model_module_version": "2.0.0",
       "_model_name": "ProgressStyleModel",
       "_view_count": null,
       "_view_module": "@jupyter-widgets/base",
       "_view_module_version": "2.0.0",
       "_view_name": "StyleView",
       "bar_color": null,
       "description_width": ""
      }
     },
     "0ef3e93f554f41bca3237b18b6aef6c4": {
      "model_module": "@jupyter-widgets/base",
      "model_module_version": "2.0.0",
      "model_name": "LayoutModel",
      "state": {
       "_model_module": "@jupyter-widgets/base",
       "_model_module_version": "2.0.0",
       "_model_name": "LayoutModel",
       "_view_count": null,
       "_view_module": "@jupyter-widgets/base",
       "_view_module_version": "2.0.0",
       "_view_name": "LayoutView",
       "align_content": null,
       "align_items": null,
       "align_self": null,
       "border_bottom": null,
       "border_left": null,
       "border_right": null,
       "border_top": null,
       "bottom": null,
       "display": null,
       "flex": null,
       "flex_flow": null,
       "grid_area": null,
       "grid_auto_columns": null,
       "grid_auto_flow": null,
       "grid_auto_rows": null,
       "grid_column": null,
       "grid_gap": null,
       "grid_row": null,
       "grid_template_areas": null,
       "grid_template_columns": null,
       "grid_template_rows": null,
       "height": null,
       "justify_content": null,
       "justify_items": null,
       "left": null,
       "margin": null,
       "max_height": null,
       "max_width": null,
       "min_height": null,
       "min_width": null,
       "object_fit": null,
       "object_position": null,
       "order": null,
       "overflow": null,
       "padding": null,
       "right": null,
       "top": null,
       "visibility": null,
       "width": null
      }
     },
     "0f045f8a59974deebacea5d9a24f88ce": {
      "model_module": "@jupyter-widgets/controls",
      "model_module_version": "2.0.0",
      "model_name": "HTMLStyleModel",
      "state": {
       "_model_module": "@jupyter-widgets/controls",
       "_model_module_version": "2.0.0",
       "_model_name": "HTMLStyleModel",
       "_view_count": null,
       "_view_module": "@jupyter-widgets/base",
       "_view_module_version": "2.0.0",
       "_view_name": "StyleView",
       "background": null,
       "description_width": "",
       "font_size": null,
       "text_color": null
      }
     },
     "187fae2d85b240f8adad34b5769a2aa4": {
      "model_module": "@jupyter-widgets/controls",
      "model_module_version": "2.0.0",
      "model_name": "HTMLStyleModel",
      "state": {
       "_model_module": "@jupyter-widgets/controls",
       "_model_module_version": "2.0.0",
       "_model_name": "HTMLStyleModel",
       "_view_count": null,
       "_view_module": "@jupyter-widgets/base",
       "_view_module_version": "2.0.0",
       "_view_name": "StyleView",
       "background": null,
       "description_width": "",
       "font_size": null,
       "text_color": null
      }
     },
     "1a85671f2a4f43cf98a353caeafeccea": {
      "model_module": "@jupyter-widgets/controls",
      "model_module_version": "2.0.0",
      "model_name": "HTMLModel",
      "state": {
       "_dom_classes": [],
       "_model_module": "@jupyter-widgets/controls",
       "_model_module_version": "2.0.0",
       "_model_name": "HTMLModel",
       "_view_count": null,
       "_view_module": "@jupyter-widgets/controls",
       "_view_module_version": "2.0.0",
       "_view_name": "HTMLView",
       "description": "",
       "description_allow_html": false,
       "layout": "IPY_MODEL_38e6df6fe3404a8285ceab5d39af5499",
       "placeholder": "​",
       "style": "IPY_MODEL_53e5a20c50374b3e967cda53d3e95e48",
       "tabbable": null,
       "tooltip": null,
       "value": " 46500/46500 [00:00&lt;00:00, 186475.83it/s]"
      }
     },
     "1b030012585746fabfc7bb2c4c2878c6": {
      "model_module": "@jupyter-widgets/base",
      "model_module_version": "2.0.0",
      "model_name": "LayoutModel",
      "state": {
       "_model_module": "@jupyter-widgets/base",
       "_model_module_version": "2.0.0",
       "_model_name": "LayoutModel",
       "_view_count": null,
       "_view_module": "@jupyter-widgets/base",
       "_view_module_version": "2.0.0",
       "_view_name": "LayoutView",
       "align_content": null,
       "align_items": null,
       "align_self": null,
       "border_bottom": null,
       "border_left": null,
       "border_right": null,
       "border_top": null,
       "bottom": null,
       "display": null,
       "flex": null,
       "flex_flow": null,
       "grid_area": null,
       "grid_auto_columns": null,
       "grid_auto_flow": null,
       "grid_auto_rows": null,
       "grid_column": null,
       "grid_gap": null,
       "grid_row": null,
       "grid_template_areas": null,
       "grid_template_columns": null,
       "grid_template_rows": null,
       "height": null,
       "justify_content": null,
       "justify_items": null,
       "left": null,
       "margin": null,
       "max_height": null,
       "max_width": null,
       "min_height": null,
       "min_width": null,
       "object_fit": null,
       "object_position": null,
       "order": null,
       "overflow": null,
       "padding": null,
       "right": null,
       "top": null,
       "visibility": null,
       "width": null
      }
     },
     "20a9fb62061d4528ad4bf819cb22c278": {
      "model_module": "@jupyter-widgets/base",
      "model_module_version": "2.0.0",
      "model_name": "LayoutModel",
      "state": {
       "_model_module": "@jupyter-widgets/base",
       "_model_module_version": "2.0.0",
       "_model_name": "LayoutModel",
       "_view_count": null,
       "_view_module": "@jupyter-widgets/base",
       "_view_module_version": "2.0.0",
       "_view_name": "LayoutView",
       "align_content": null,
       "align_items": null,
       "align_self": null,
       "border_bottom": null,
       "border_left": null,
       "border_right": null,
       "border_top": null,
       "bottom": null,
       "display": null,
       "flex": null,
       "flex_flow": null,
       "grid_area": null,
       "grid_auto_columns": null,
       "grid_auto_flow": null,
       "grid_auto_rows": null,
       "grid_column": null,
       "grid_gap": null,
       "grid_row": null,
       "grid_template_areas": null,
       "grid_template_columns": null,
       "grid_template_rows": null,
       "height": null,
       "justify_content": null,
       "justify_items": null,
       "left": null,
       "margin": null,
       "max_height": null,
       "max_width": null,
       "min_height": null,
       "min_width": null,
       "object_fit": null,
       "object_position": null,
       "order": null,
       "overflow": null,
       "padding": null,
       "right": null,
       "top": null,
       "visibility": null,
       "width": null
      }
     },
     "255d94d83e9246f7807a1aa31e3f142b": {
      "model_module": "@jupyter-widgets/controls",
      "model_module_version": "2.0.0",
      "model_name": "HTMLStyleModel",
      "state": {
       "_model_module": "@jupyter-widgets/controls",
       "_model_module_version": "2.0.0",
       "_model_name": "HTMLStyleModel",
       "_view_count": null,
       "_view_module": "@jupyter-widgets/base",
       "_view_module_version": "2.0.0",
       "_view_name": "StyleView",
       "background": null,
       "description_width": "",
       "font_size": null,
       "text_color": null
      }
     },
     "25d47f3c455d48deb91733be259ee78d": {
      "model_module": "@jupyter-widgets/base",
      "model_module_version": "2.0.0",
      "model_name": "LayoutModel",
      "state": {
       "_model_module": "@jupyter-widgets/base",
       "_model_module_version": "2.0.0",
       "_model_name": "LayoutModel",
       "_view_count": null,
       "_view_module": "@jupyter-widgets/base",
       "_view_module_version": "2.0.0",
       "_view_name": "LayoutView",
       "align_content": null,
       "align_items": null,
       "align_self": null,
       "border_bottom": null,
       "border_left": null,
       "border_right": null,
       "border_top": null,
       "bottom": null,
       "display": null,
       "flex": null,
       "flex_flow": null,
       "grid_area": null,
       "grid_auto_columns": null,
       "grid_auto_flow": null,
       "grid_auto_rows": null,
       "grid_column": null,
       "grid_gap": null,
       "grid_row": null,
       "grid_template_areas": null,
       "grid_template_columns": null,
       "grid_template_rows": null,
       "height": null,
       "justify_content": null,
       "justify_items": null,
       "left": null,
       "margin": null,
       "max_height": null,
       "max_width": null,
       "min_height": null,
       "min_width": null,
       "object_fit": null,
       "object_position": null,
       "order": null,
       "overflow": null,
       "padding": null,
       "right": null,
       "top": null,
       "visibility": null,
       "width": null
      }
     },
     "26a3f77c92a842b788a5dff2bc3b7656": {
      "model_module": "@jupyter-widgets/base",
      "model_module_version": "2.0.0",
      "model_name": "LayoutModel",
      "state": {
       "_model_module": "@jupyter-widgets/base",
       "_model_module_version": "2.0.0",
       "_model_name": "LayoutModel",
       "_view_count": null,
       "_view_module": "@jupyter-widgets/base",
       "_view_module_version": "2.0.0",
       "_view_name": "LayoutView",
       "align_content": null,
       "align_items": null,
       "align_self": null,
       "border_bottom": null,
       "border_left": null,
       "border_right": null,
       "border_top": null,
       "bottom": null,
       "display": null,
       "flex": null,
       "flex_flow": null,
       "grid_area": null,
       "grid_auto_columns": null,
       "grid_auto_flow": null,
       "grid_auto_rows": null,
       "grid_column": null,
       "grid_gap": null,
       "grid_row": null,
       "grid_template_areas": null,
       "grid_template_columns": null,
       "grid_template_rows": null,
       "height": null,
       "justify_content": null,
       "justify_items": null,
       "left": null,
       "margin": null,
       "max_height": null,
       "max_width": null,
       "min_height": null,
       "min_width": null,
       "object_fit": null,
       "object_position": null,
       "order": null,
       "overflow": null,
       "padding": null,
       "right": null,
       "top": null,
       "visibility": null,
       "width": null
      }
     },
     "2a5ee1d5ac8048769b6a8a022ab2954c": {
      "model_module": "@jupyter-widgets/base",
      "model_module_version": "2.0.0",
      "model_name": "LayoutModel",
      "state": {
       "_model_module": "@jupyter-widgets/base",
       "_model_module_version": "2.0.0",
       "_model_name": "LayoutModel",
       "_view_count": null,
       "_view_module": "@jupyter-widgets/base",
       "_view_module_version": "2.0.0",
       "_view_name": "LayoutView",
       "align_content": null,
       "align_items": null,
       "align_self": null,
       "border_bottom": null,
       "border_left": null,
       "border_right": null,
       "border_top": null,
       "bottom": null,
       "display": null,
       "flex": null,
       "flex_flow": null,
       "grid_area": null,
       "grid_auto_columns": null,
       "grid_auto_flow": null,
       "grid_auto_rows": null,
       "grid_column": null,
       "grid_gap": null,
       "grid_row": null,
       "grid_template_areas": null,
       "grid_template_columns": null,
       "grid_template_rows": null,
       "height": null,
       "justify_content": null,
       "justify_items": null,
       "left": null,
       "margin": null,
       "max_height": null,
       "max_width": null,
       "min_height": null,
       "min_width": null,
       "object_fit": null,
       "object_position": null,
       "order": null,
       "overflow": null,
       "padding": null,
       "right": null,
       "top": null,
       "visibility": null,
       "width": null
      }
     },
     "2cc49427eca54b4aaf15cf83026c4ac1": {
      "model_module": "@jupyter-widgets/base",
      "model_module_version": "2.0.0",
      "model_name": "LayoutModel",
      "state": {
       "_model_module": "@jupyter-widgets/base",
       "_model_module_version": "2.0.0",
       "_model_name": "LayoutModel",
       "_view_count": null,
       "_view_module": "@jupyter-widgets/base",
       "_view_module_version": "2.0.0",
       "_view_name": "LayoutView",
       "align_content": null,
       "align_items": null,
       "align_self": null,
       "border_bottom": null,
       "border_left": null,
       "border_right": null,
       "border_top": null,
       "bottom": null,
       "display": null,
       "flex": null,
       "flex_flow": null,
       "grid_area": null,
       "grid_auto_columns": null,
       "grid_auto_flow": null,
       "grid_auto_rows": null,
       "grid_column": null,
       "grid_gap": null,
       "grid_row": null,
       "grid_template_areas": null,
       "grid_template_columns": null,
       "grid_template_rows": null,
       "height": null,
       "justify_content": null,
       "justify_items": null,
       "left": null,
       "margin": null,
       "max_height": null,
       "max_width": null,
       "min_height": null,
       "min_width": null,
       "object_fit": null,
       "object_position": null,
       "order": null,
       "overflow": null,
       "padding": null,
       "right": null,
       "top": null,
       "visibility": null,
       "width": null
      }
     },
     "3391e226385341168d130ac9381a182f": {
      "model_module": "@jupyter-widgets/base",
      "model_module_version": "2.0.0",
      "model_name": "LayoutModel",
      "state": {
       "_model_module": "@jupyter-widgets/base",
       "_model_module_version": "2.0.0",
       "_model_name": "LayoutModel",
       "_view_count": null,
       "_view_module": "@jupyter-widgets/base",
       "_view_module_version": "2.0.0",
       "_view_name": "LayoutView",
       "align_content": null,
       "align_items": null,
       "align_self": null,
       "border_bottom": null,
       "border_left": null,
       "border_right": null,
       "border_top": null,
       "bottom": null,
       "display": null,
       "flex": null,
       "flex_flow": null,
       "grid_area": null,
       "grid_auto_columns": null,
       "grid_auto_flow": null,
       "grid_auto_rows": null,
       "grid_column": null,
       "grid_gap": null,
       "grid_row": null,
       "grid_template_areas": null,
       "grid_template_columns": null,
       "grid_template_rows": null,
       "height": null,
       "justify_content": null,
       "justify_items": null,
       "left": null,
       "margin": null,
       "max_height": null,
       "max_width": null,
       "min_height": null,
       "min_width": null,
       "object_fit": null,
       "object_position": null,
       "order": null,
       "overflow": null,
       "padding": null,
       "right": null,
       "top": null,
       "visibility": null,
       "width": null
      }
     },
     "35be4c96ba224307822a200f58f4ea09": {
      "model_module": "@jupyter-widgets/base",
      "model_module_version": "2.0.0",
      "model_name": "LayoutModel",
      "state": {
       "_model_module": "@jupyter-widgets/base",
       "_model_module_version": "2.0.0",
       "_model_name": "LayoutModel",
       "_view_count": null,
       "_view_module": "@jupyter-widgets/base",
       "_view_module_version": "2.0.0",
       "_view_name": "LayoutView",
       "align_content": null,
       "align_items": null,
       "align_self": null,
       "border_bottom": null,
       "border_left": null,
       "border_right": null,
       "border_top": null,
       "bottom": null,
       "display": null,
       "flex": null,
       "flex_flow": null,
       "grid_area": null,
       "grid_auto_columns": null,
       "grid_auto_flow": null,
       "grid_auto_rows": null,
       "grid_column": null,
       "grid_gap": null,
       "grid_row": null,
       "grid_template_areas": null,
       "grid_template_columns": null,
       "grid_template_rows": null,
       "height": null,
       "justify_content": null,
       "justify_items": null,
       "left": null,
       "margin": null,
       "max_height": null,
       "max_width": null,
       "min_height": null,
       "min_width": null,
       "object_fit": null,
       "object_position": null,
       "order": null,
       "overflow": null,
       "padding": null,
       "right": null,
       "top": null,
       "visibility": null,
       "width": null
      }
     },
     "38e6df6fe3404a8285ceab5d39af5499": {
      "model_module": "@jupyter-widgets/base",
      "model_module_version": "2.0.0",
      "model_name": "LayoutModel",
      "state": {
       "_model_module": "@jupyter-widgets/base",
       "_model_module_version": "2.0.0",
       "_model_name": "LayoutModel",
       "_view_count": null,
       "_view_module": "@jupyter-widgets/base",
       "_view_module_version": "2.0.0",
       "_view_name": "LayoutView",
       "align_content": null,
       "align_items": null,
       "align_self": null,
       "border_bottom": null,
       "border_left": null,
       "border_right": null,
       "border_top": null,
       "bottom": null,
       "display": null,
       "flex": null,
       "flex_flow": null,
       "grid_area": null,
       "grid_auto_columns": null,
       "grid_auto_flow": null,
       "grid_auto_rows": null,
       "grid_column": null,
       "grid_gap": null,
       "grid_row": null,
       "grid_template_areas": null,
       "grid_template_columns": null,
       "grid_template_rows": null,
       "height": null,
       "justify_content": null,
       "justify_items": null,
       "left": null,
       "margin": null,
       "max_height": null,
       "max_width": null,
       "min_height": null,
       "min_width": null,
       "object_fit": null,
       "object_position": null,
       "order": null,
       "overflow": null,
       "padding": null,
       "right": null,
       "top": null,
       "visibility": null,
       "width": null
      }
     },
     "397c25439f0e45a1bab0b73f8d57d5ac": {
      "model_module": "@jupyter-widgets/base",
      "model_module_version": "2.0.0",
      "model_name": "LayoutModel",
      "state": {
       "_model_module": "@jupyter-widgets/base",
       "_model_module_version": "2.0.0",
       "_model_name": "LayoutModel",
       "_view_count": null,
       "_view_module": "@jupyter-widgets/base",
       "_view_module_version": "2.0.0",
       "_view_name": "LayoutView",
       "align_content": null,
       "align_items": null,
       "align_self": null,
       "border_bottom": null,
       "border_left": null,
       "border_right": null,
       "border_top": null,
       "bottom": null,
       "display": null,
       "flex": null,
       "flex_flow": null,
       "grid_area": null,
       "grid_auto_columns": null,
       "grid_auto_flow": null,
       "grid_auto_rows": null,
       "grid_column": null,
       "grid_gap": null,
       "grid_row": null,
       "grid_template_areas": null,
       "grid_template_columns": null,
       "grid_template_rows": null,
       "height": null,
       "justify_content": null,
       "justify_items": null,
       "left": null,
       "margin": null,
       "max_height": null,
       "max_width": null,
       "min_height": null,
       "min_width": null,
       "object_fit": null,
       "object_position": null,
       "order": null,
       "overflow": null,
       "padding": null,
       "right": null,
       "top": null,
       "visibility": null,
       "width": null
      }
     },
     "39b41de128b049dcbee4ac4a09b49017": {
      "model_module": "@jupyter-widgets/base",
      "model_module_version": "2.0.0",
      "model_name": "LayoutModel",
      "state": {
       "_model_module": "@jupyter-widgets/base",
       "_model_module_version": "2.0.0",
       "_model_name": "LayoutModel",
       "_view_count": null,
       "_view_module": "@jupyter-widgets/base",
       "_view_module_version": "2.0.0",
       "_view_name": "LayoutView",
       "align_content": null,
       "align_items": null,
       "align_self": null,
       "border_bottom": null,
       "border_left": null,
       "border_right": null,
       "border_top": null,
       "bottom": null,
       "display": null,
       "flex": null,
       "flex_flow": null,
       "grid_area": null,
       "grid_auto_columns": null,
       "grid_auto_flow": null,
       "grid_auto_rows": null,
       "grid_column": null,
       "grid_gap": null,
       "grid_row": null,
       "grid_template_areas": null,
       "grid_template_columns": null,
       "grid_template_rows": null,
       "height": null,
       "justify_content": null,
       "justify_items": null,
       "left": null,
       "margin": null,
       "max_height": null,
       "max_width": null,
       "min_height": null,
       "min_width": null,
       "object_fit": null,
       "object_position": null,
       "order": null,
       "overflow": null,
       "padding": null,
       "right": null,
       "top": null,
       "visibility": null,
       "width": null
      }
     },
     "3ad6d943c0cf42c7bdbea1b18f900983": {
      "model_module": "@jupyter-widgets/controls",
      "model_module_version": "2.0.0",
      "model_name": "HTMLModel",
      "state": {
       "_dom_classes": [],
       "_model_module": "@jupyter-widgets/controls",
       "_model_module_version": "2.0.0",
       "_model_name": "HTMLModel",
       "_view_count": null,
       "_view_module": "@jupyter-widgets/controls",
       "_view_module_version": "2.0.0",
       "_view_name": "HTMLView",
       "description": "",
       "description_allow_html": false,
       "layout": "IPY_MODEL_c491cac995174b6a9d11f0f3f6aefe46",
       "placeholder": "​",
       "style": "IPY_MODEL_df6bea94798a45fc92973e1ae3830e90",
       "tabbable": null,
       "tooltip": null,
       "value": "Pandas Apply: 100%"
      }
     },
     "3d7b07f75b024513923c221823e9b4c6": {
      "model_module": "@jupyter-widgets/controls",
      "model_module_version": "2.0.0",
      "model_name": "HTMLStyleModel",
      "state": {
       "_model_module": "@jupyter-widgets/controls",
       "_model_module_version": "2.0.0",
       "_model_name": "HTMLStyleModel",
       "_view_count": null,
       "_view_module": "@jupyter-widgets/base",
       "_view_module_version": "2.0.0",
       "_view_name": "StyleView",
       "background": null,
       "description_width": "",
       "font_size": null,
       "text_color": null
      }
     },
     "3e6787419caf42c4b03bce48ef39ad5c": {
      "model_module": "@jupyter-widgets/controls",
      "model_module_version": "2.0.0",
      "model_name": "FloatProgressModel",
      "state": {
       "_dom_classes": [],
       "_model_module": "@jupyter-widgets/controls",
       "_model_module_version": "2.0.0",
       "_model_name": "FloatProgressModel",
       "_view_count": null,
       "_view_module": "@jupyter-widgets/controls",
       "_view_module_version": "2.0.0",
       "_view_name": "ProgressView",
       "bar_style": "success",
       "description": "",
       "description_allow_html": false,
       "layout": "IPY_MODEL_d10af0188ce64b4eac94064b38fd6aba",
       "max": 46500.0,
       "min": 0.0,
       "orientation": "horizontal",
       "style": "IPY_MODEL_0deb78da0cbf4b95a6c70691a55d68c8",
       "tabbable": null,
       "tooltip": null,
       "value": 46500.0
      }
     },
     "4002b32822cb4769a0038d148df3348b": {
      "model_module": "@jupyter-widgets/controls",
      "model_module_version": "2.0.0",
      "model_name": "ProgressStyleModel",
      "state": {
       "_model_module": "@jupyter-widgets/controls",
       "_model_module_version": "2.0.0",
       "_model_name": "ProgressStyleModel",
       "_view_count": null,
       "_view_module": "@jupyter-widgets/base",
       "_view_module_version": "2.0.0",
       "_view_name": "StyleView",
       "bar_color": null,
       "description_width": ""
      }
     },
     "43eb2eb5c0b34c5ca4fa20f7314c2a98": {
      "model_module": "@jupyter-widgets/controls",
      "model_module_version": "2.0.0",
      "model_name": "HTMLModel",
      "state": {
       "_dom_classes": [],
       "_model_module": "@jupyter-widgets/controls",
       "_model_module_version": "2.0.0",
       "_model_name": "HTMLModel",
       "_view_count": null,
       "_view_module": "@jupyter-widgets/controls",
       "_view_module_version": "2.0.0",
       "_view_name": "HTMLView",
       "description": "",
       "description_allow_html": false,
       "layout": "IPY_MODEL_fcbca7e53cf746e1934b8359489f7d47",
       "placeholder": "​",
       "style": "IPY_MODEL_5f4df0b0277a42f59f7dfda97c4741a9",
       "tabbable": null,
       "tooltip": null,
       "value": " 46500/46500 [00:00&lt;00:00, 578493.80it/s]"
      }
     },
     "48048354edb147af955b2ef475904a87": {
      "model_module": "@jupyter-widgets/controls",
      "model_module_version": "2.0.0",
      "model_name": "HTMLStyleModel",
      "state": {
       "_model_module": "@jupyter-widgets/controls",
       "_model_module_version": "2.0.0",
       "_model_name": "HTMLStyleModel",
       "_view_count": null,
       "_view_module": "@jupyter-widgets/base",
       "_view_module_version": "2.0.0",
       "_view_name": "StyleView",
       "background": null,
       "description_width": "",
       "font_size": null,
       "text_color": null
      }
     },
     "48a0252d75804522ad9f040615af38f4": {
      "model_module": "@jupyter-widgets/controls",
      "model_module_version": "2.0.0",
      "model_name": "FloatProgressModel",
      "state": {
       "_dom_classes": [],
       "_model_module": "@jupyter-widgets/controls",
       "_model_module_version": "2.0.0",
       "_model_name": "FloatProgressModel",
       "_view_count": null,
       "_view_module": "@jupyter-widgets/controls",
       "_view_module_version": "2.0.0",
       "_view_name": "ProgressView",
       "bar_style": "success",
       "description": "",
       "description_allow_html": false,
       "layout": "IPY_MODEL_fa3694d3f24f4d2681e9aa2eee846c0f",
       "max": 46500.0,
       "min": 0.0,
       "orientation": "horizontal",
       "style": "IPY_MODEL_f559112ead7e4d26991777529be2b831",
       "tabbable": null,
       "tooltip": null,
       "value": 46500.0
      }
     },
     "4d571abb753447c184a767cc85472247": {
      "model_module": "@jupyter-widgets/controls",
      "model_module_version": "2.0.0",
      "model_name": "HTMLModel",
      "state": {
       "_dom_classes": [],
       "_model_module": "@jupyter-widgets/controls",
       "_model_module_version": "2.0.0",
       "_model_name": "HTMLModel",
       "_view_count": null,
       "_view_module": "@jupyter-widgets/controls",
       "_view_module_version": "2.0.0",
       "_view_name": "HTMLView",
       "description": "",
       "description_allow_html": false,
       "layout": "IPY_MODEL_35be4c96ba224307822a200f58f4ea09",
       "placeholder": "​",
       "style": "IPY_MODEL_d721f1798e6a4c799845a3567775eb62",
       "tabbable": null,
       "tooltip": null,
       "value": "Pandas Apply: 100%"
      }
     },
     "4faa9b1e1f7f429b8044843432420781": {
      "model_module": "@jupyter-widgets/base",
      "model_module_version": "2.0.0",
      "model_name": "LayoutModel",
      "state": {
       "_model_module": "@jupyter-widgets/base",
       "_model_module_version": "2.0.0",
       "_model_name": "LayoutModel",
       "_view_count": null,
       "_view_module": "@jupyter-widgets/base",
       "_view_module_version": "2.0.0",
       "_view_name": "LayoutView",
       "align_content": null,
       "align_items": null,
       "align_self": null,
       "border_bottom": null,
       "border_left": null,
       "border_right": null,
       "border_top": null,
       "bottom": null,
       "display": null,
       "flex": null,
       "flex_flow": null,
       "grid_area": null,
       "grid_auto_columns": null,
       "grid_auto_flow": null,
       "grid_auto_rows": null,
       "grid_column": null,
       "grid_gap": null,
       "grid_row": null,
       "grid_template_areas": null,
       "grid_template_columns": null,
       "grid_template_rows": null,
       "height": null,
       "justify_content": null,
       "justify_items": null,
       "left": null,
       "margin": null,
       "max_height": null,
       "max_width": null,
       "min_height": null,
       "min_width": null,
       "object_fit": null,
       "object_position": null,
       "order": null,
       "overflow": null,
       "padding": null,
       "right": null,
       "top": null,
       "visibility": null,
       "width": null
      }
     },
     "51224a547efb4bf5a3944217f5b2457a": {
      "model_module": "@jupyter-widgets/base",
      "model_module_version": "2.0.0",
      "model_name": "LayoutModel",
      "state": {
       "_model_module": "@jupyter-widgets/base",
       "_model_module_version": "2.0.0",
       "_model_name": "LayoutModel",
       "_view_count": null,
       "_view_module": "@jupyter-widgets/base",
       "_view_module_version": "2.0.0",
       "_view_name": "LayoutView",
       "align_content": null,
       "align_items": null,
       "align_self": null,
       "border_bottom": null,
       "border_left": null,
       "border_right": null,
       "border_top": null,
       "bottom": null,
       "display": null,
       "flex": null,
       "flex_flow": null,
       "grid_area": null,
       "grid_auto_columns": null,
       "grid_auto_flow": null,
       "grid_auto_rows": null,
       "grid_column": null,
       "grid_gap": null,
       "grid_row": null,
       "grid_template_areas": null,
       "grid_template_columns": null,
       "grid_template_rows": null,
       "height": null,
       "justify_content": null,
       "justify_items": null,
       "left": null,
       "margin": null,
       "max_height": null,
       "max_width": null,
       "min_height": null,
       "min_width": null,
       "object_fit": null,
       "object_position": null,
       "order": null,
       "overflow": null,
       "padding": null,
       "right": null,
       "top": null,
       "visibility": null,
       "width": null
      }
     },
     "53e5a20c50374b3e967cda53d3e95e48": {
      "model_module": "@jupyter-widgets/controls",
      "model_module_version": "2.0.0",
      "model_name": "HTMLStyleModel",
      "state": {
       "_model_module": "@jupyter-widgets/controls",
       "_model_module_version": "2.0.0",
       "_model_name": "HTMLStyleModel",
       "_view_count": null,
       "_view_module": "@jupyter-widgets/base",
       "_view_module_version": "2.0.0",
       "_view_name": "StyleView",
       "background": null,
       "description_width": "",
       "font_size": null,
       "text_color": null
      }
     },
     "5aac27a6cee044d6bc578a7ba7caae36": {
      "model_module": "@jupyter-widgets/controls",
      "model_module_version": "2.0.0",
      "model_name": "HTMLModel",
      "state": {
       "_dom_classes": [],
       "_model_module": "@jupyter-widgets/controls",
       "_model_module_version": "2.0.0",
       "_model_name": "HTMLModel",
       "_view_count": null,
       "_view_module": "@jupyter-widgets/controls",
       "_view_module_version": "2.0.0",
       "_view_name": "HTMLView",
       "description": "",
       "description_allow_html": false,
       "layout": "IPY_MODEL_d25c3a91871644b785a18dee488ceaf7",
       "placeholder": "​",
       "style": "IPY_MODEL_3d7b07f75b024513923c221823e9b4c6",
       "tabbable": null,
       "tooltip": null,
       "value": " 46500/46500 [00:00&lt;00:00, 425507.36it/s]"
      }
     },
     "5f4df0b0277a42f59f7dfda97c4741a9": {
      "model_module": "@jupyter-widgets/controls",
      "model_module_version": "2.0.0",
      "model_name": "HTMLStyleModel",
      "state": {
       "_model_module": "@jupyter-widgets/controls",
       "_model_module_version": "2.0.0",
       "_model_name": "HTMLStyleModel",
       "_view_count": null,
       "_view_module": "@jupyter-widgets/base",
       "_view_module_version": "2.0.0",
       "_view_name": "StyleView",
       "background": null,
       "description_width": "",
       "font_size": null,
       "text_color": null
      }
     },
     "60b3eb27ae664d029fcc656c203b2d21": {
      "model_module": "@jupyter-widgets/base",
      "model_module_version": "2.0.0",
      "model_name": "LayoutModel",
      "state": {
       "_model_module": "@jupyter-widgets/base",
       "_model_module_version": "2.0.0",
       "_model_name": "LayoutModel",
       "_view_count": null,
       "_view_module": "@jupyter-widgets/base",
       "_view_module_version": "2.0.0",
       "_view_name": "LayoutView",
       "align_content": null,
       "align_items": null,
       "align_self": null,
       "border_bottom": null,
       "border_left": null,
       "border_right": null,
       "border_top": null,
       "bottom": null,
       "display": null,
       "flex": null,
       "flex_flow": null,
       "grid_area": null,
       "grid_auto_columns": null,
       "grid_auto_flow": null,
       "grid_auto_rows": null,
       "grid_column": null,
       "grid_gap": null,
       "grid_row": null,
       "grid_template_areas": null,
       "grid_template_columns": null,
       "grid_template_rows": null,
       "height": null,
       "justify_content": null,
       "justify_items": null,
       "left": null,
       "margin": null,
       "max_height": null,
       "max_width": null,
       "min_height": null,
       "min_width": null,
       "object_fit": null,
       "object_position": null,
       "order": null,
       "overflow": null,
       "padding": null,
       "right": null,
       "top": null,
       "visibility": null,
       "width": null
      }
     },
     "6387712096cd4cc995f9202a82b27f18": {
      "model_module": "@jupyter-widgets/base",
      "model_module_version": "2.0.0",
      "model_name": "LayoutModel",
      "state": {
       "_model_module": "@jupyter-widgets/base",
       "_model_module_version": "2.0.0",
       "_model_name": "LayoutModel",
       "_view_count": null,
       "_view_module": "@jupyter-widgets/base",
       "_view_module_version": "2.0.0",
       "_view_name": "LayoutView",
       "align_content": null,
       "align_items": null,
       "align_self": null,
       "border_bottom": null,
       "border_left": null,
       "border_right": null,
       "border_top": null,
       "bottom": null,
       "display": null,
       "flex": null,
       "flex_flow": null,
       "grid_area": null,
       "grid_auto_columns": null,
       "grid_auto_flow": null,
       "grid_auto_rows": null,
       "grid_column": null,
       "grid_gap": null,
       "grid_row": null,
       "grid_template_areas": null,
       "grid_template_columns": null,
       "grid_template_rows": null,
       "height": null,
       "justify_content": null,
       "justify_items": null,
       "left": null,
       "margin": null,
       "max_height": null,
       "max_width": null,
       "min_height": null,
       "min_width": null,
       "object_fit": null,
       "object_position": null,
       "order": null,
       "overflow": null,
       "padding": null,
       "right": null,
       "top": null,
       "visibility": null,
       "width": null
      }
     },
     "662323994e4141138333bad179d6fd9f": {
      "model_module": "@jupyter-widgets/controls",
      "model_module_version": "2.0.0",
      "model_name": "HBoxModel",
      "state": {
       "_dom_classes": [],
       "_model_module": "@jupyter-widgets/controls",
       "_model_module_version": "2.0.0",
       "_model_name": "HBoxModel",
       "_view_count": null,
       "_view_module": "@jupyter-widgets/controls",
       "_view_module_version": "2.0.0",
       "_view_name": "HBoxView",
       "box_style": "",
       "children": [
        "IPY_MODEL_b31fff22fbbd43e3a2dea3069f210d9e",
        "IPY_MODEL_ab370f29f72940f88d06532c2e6dfe6f",
        "IPY_MODEL_ce77fc755f164c7d9b86973e064e0074"
       ],
       "layout": "IPY_MODEL_6cc2d98e98604c198bbca8a726020fb4",
       "tabbable": null,
       "tooltip": null
      }
     },
     "690f1bb71d3f40e4b55b39195f34cb82": {
      "model_module": "@jupyter-widgets/controls",
      "model_module_version": "2.0.0",
      "model_name": "FloatProgressModel",
      "state": {
       "_dom_classes": [],
       "_model_module": "@jupyter-widgets/controls",
       "_model_module_version": "2.0.0",
       "_model_name": "FloatProgressModel",
       "_view_count": null,
       "_view_module": "@jupyter-widgets/controls",
       "_view_module_version": "2.0.0",
       "_view_name": "ProgressView",
       "bar_style": "success",
       "description": "",
       "description_allow_html": false,
       "layout": "IPY_MODEL_dd416ceb49184c3fb64bcfba9505bd46",
       "max": 46500.0,
       "min": 0.0,
       "orientation": "horizontal",
       "style": "IPY_MODEL_c6be9ace9525465885f40c0aad06cd85",
       "tabbable": null,
       "tooltip": null,
       "value": 46500.0
      }
     },
     "6cc2d98e98604c198bbca8a726020fb4": {
      "model_module": "@jupyter-widgets/base",
      "model_module_version": "2.0.0",
      "model_name": "LayoutModel",
      "state": {
       "_model_module": "@jupyter-widgets/base",
       "_model_module_version": "2.0.0",
       "_model_name": "LayoutModel",
       "_view_count": null,
       "_view_module": "@jupyter-widgets/base",
       "_view_module_version": "2.0.0",
       "_view_name": "LayoutView",
       "align_content": null,
       "align_items": null,
       "align_self": null,
       "border_bottom": null,
       "border_left": null,
       "border_right": null,
       "border_top": null,
       "bottom": null,
       "display": null,
       "flex": null,
       "flex_flow": null,
       "grid_area": null,
       "grid_auto_columns": null,
       "grid_auto_flow": null,
       "grid_auto_rows": null,
       "grid_column": null,
       "grid_gap": null,
       "grid_row": null,
       "grid_template_areas": null,
       "grid_template_columns": null,
       "grid_template_rows": null,
       "height": null,
       "justify_content": null,
       "justify_items": null,
       "left": null,
       "margin": null,
       "max_height": null,
       "max_width": null,
       "min_height": null,
       "min_width": null,
       "object_fit": null,
       "object_position": null,
       "order": null,
       "overflow": null,
       "padding": null,
       "right": null,
       "top": null,
       "visibility": null,
       "width": null
      }
     },
     "6ddf7587f4f846aba328ae082e5db89a": {
      "model_module": "@jupyter-widgets/controls",
      "model_module_version": "2.0.0",
      "model_name": "ProgressStyleModel",
      "state": {
       "_model_module": "@jupyter-widgets/controls",
       "_model_module_version": "2.0.0",
       "_model_name": "ProgressStyleModel",
       "_view_count": null,
       "_view_module": "@jupyter-widgets/base",
       "_view_module_version": "2.0.0",
       "_view_name": "StyleView",
       "bar_color": null,
       "description_width": ""
      }
     },
     "74a6edfe06374022b771b7217180b9aa": {
      "model_module": "@jupyter-widgets/controls",
      "model_module_version": "2.0.0",
      "model_name": "HTMLModel",
      "state": {
       "_dom_classes": [],
       "_model_module": "@jupyter-widgets/controls",
       "_model_module_version": "2.0.0",
       "_model_name": "HTMLModel",
       "_view_count": null,
       "_view_module": "@jupyter-widgets/controls",
       "_view_module_version": "2.0.0",
       "_view_name": "HTMLView",
       "description": "",
       "description_allow_html": false,
       "layout": "IPY_MODEL_25d47f3c455d48deb91733be259ee78d",
       "placeholder": "​",
       "style": "IPY_MODEL_aa17f15c8b374172a9863b2c7be87dbc",
       "tabbable": null,
       "tooltip": null,
       "value": "Pandas Apply: 100%"
      }
     },
     "74db341bd102474a93ec02a7961a9123": {
      "model_module": "@jupyter-widgets/controls",
      "model_module_version": "2.0.0",
      "model_name": "ProgressStyleModel",
      "state": {
       "_model_module": "@jupyter-widgets/controls",
       "_model_module_version": "2.0.0",
       "_model_name": "ProgressStyleModel",
       "_view_count": null,
       "_view_module": "@jupyter-widgets/base",
       "_view_module_version": "2.0.0",
       "_view_name": "StyleView",
       "bar_color": null,
       "description_width": ""
      }
     },
     "79635b7cace640748513f4a0c50625bd": {
      "model_module": "@jupyter-widgets/controls",
      "model_module_version": "2.0.0",
      "model_name": "FloatProgressModel",
      "state": {
       "_dom_classes": [],
       "_model_module": "@jupyter-widgets/controls",
       "_model_module_version": "2.0.0",
       "_model_name": "FloatProgressModel",
       "_view_count": null,
       "_view_module": "@jupyter-widgets/controls",
       "_view_module_version": "2.0.0",
       "_view_name": "ProgressView",
       "bar_style": "success",
       "description": "",
       "description_allow_html": false,
       "layout": "IPY_MODEL_bb12d0b4fc4d415c907d762f08c44491",
       "max": 46500.0,
       "min": 0.0,
       "orientation": "horizontal",
       "style": "IPY_MODEL_6ddf7587f4f846aba328ae082e5db89a",
       "tabbable": null,
       "tooltip": null,
       "value": 46500.0
      }
     },
     "803d136bc7ac410a86c7a3414bc127f2": {
      "model_module": "@jupyter-widgets/base",
      "model_module_version": "2.0.0",
      "model_name": "LayoutModel",
      "state": {
       "_model_module": "@jupyter-widgets/base",
       "_model_module_version": "2.0.0",
       "_model_name": "LayoutModel",
       "_view_count": null,
       "_view_module": "@jupyter-widgets/base",
       "_view_module_version": "2.0.0",
       "_view_name": "LayoutView",
       "align_content": null,
       "align_items": null,
       "align_self": null,
       "border_bottom": null,
       "border_left": null,
       "border_right": null,
       "border_top": null,
       "bottom": null,
       "display": null,
       "flex": null,
       "flex_flow": null,
       "grid_area": null,
       "grid_auto_columns": null,
       "grid_auto_flow": null,
       "grid_auto_rows": null,
       "grid_column": null,
       "grid_gap": null,
       "grid_row": null,
       "grid_template_areas": null,
       "grid_template_columns": null,
       "grid_template_rows": null,
       "height": null,
       "justify_content": null,
       "justify_items": null,
       "left": null,
       "margin": null,
       "max_height": null,
       "max_width": null,
       "min_height": null,
       "min_width": null,
       "object_fit": null,
       "object_position": null,
       "order": null,
       "overflow": null,
       "padding": null,
       "right": null,
       "top": null,
       "visibility": null,
       "width": null
      }
     },
     "818e27031d6247aa835bcd065abedc1b": {
      "model_module": "@jupyter-widgets/controls",
      "model_module_version": "2.0.0",
      "model_name": "HTMLModel",
      "state": {
       "_dom_classes": [],
       "_model_module": "@jupyter-widgets/controls",
       "_model_module_version": "2.0.0",
       "_model_name": "HTMLModel",
       "_view_count": null,
       "_view_module": "@jupyter-widgets/controls",
       "_view_module_version": "2.0.0",
       "_view_name": "HTMLView",
       "description": "",
       "description_allow_html": false,
       "layout": "IPY_MODEL_e58ccec9a98148778883c1b3eb03a8df",
       "placeholder": "​",
       "style": "IPY_MODEL_255d94d83e9246f7807a1aa31e3f142b",
       "tabbable": null,
       "tooltip": null,
       "value": "Pandas Apply: 100%"
      }
     },
     "91876f14b15542ec8b160df47c6c9492": {
      "model_module": "@jupyter-widgets/controls",
      "model_module_version": "2.0.0",
      "model_name": "HBoxModel",
      "state": {
       "_dom_classes": [],
       "_model_module": "@jupyter-widgets/controls",
       "_model_module_version": "2.0.0",
       "_model_name": "HBoxModel",
       "_view_count": null,
       "_view_module": "@jupyter-widgets/controls",
       "_view_module_version": "2.0.0",
       "_view_name": "HBoxView",
       "box_style": "",
       "children": [
        "IPY_MODEL_da389d9628f34a33bd90703483e7cdee",
        "IPY_MODEL_690f1bb71d3f40e4b55b39195f34cb82",
        "IPY_MODEL_5aac27a6cee044d6bc578a7ba7caae36"
       ],
       "layout": "IPY_MODEL_f78eab5f71b540b596cf20bc709be566",
       "tabbable": null,
       "tooltip": null
      }
     },
     "9750053e5b8c46eca5eacc678dc48a10": {
      "model_module": "@jupyter-widgets/controls",
      "model_module_version": "2.0.0",
      "model_name": "FloatProgressModel",
      "state": {
       "_dom_classes": [],
       "_model_module": "@jupyter-widgets/controls",
       "_model_module_version": "2.0.0",
       "_model_name": "FloatProgressModel",
       "_view_count": null,
       "_view_module": "@jupyter-widgets/controls",
       "_view_module_version": "2.0.0",
       "_view_name": "ProgressView",
       "bar_style": "success",
       "description": "",
       "description_allow_html": false,
       "layout": "IPY_MODEL_ed03dfa02ae14070ac0f8bc462a294e9",
       "max": 46500.0,
       "min": 0.0,
       "orientation": "horizontal",
       "style": "IPY_MODEL_08a64210b9104435bbf4efc4c1659613",
       "tabbable": null,
       "tooltip": null,
       "value": 46500.0
      }
     },
     "97c0af5cee6343cd826dcb4b65acc01e": {
      "model_module": "@jupyter-widgets/controls",
      "model_module_version": "2.0.0",
      "model_name": "HBoxModel",
      "state": {
       "_dom_classes": [],
       "_model_module": "@jupyter-widgets/controls",
       "_model_module_version": "2.0.0",
       "_model_name": "HBoxModel",
       "_view_count": null,
       "_view_module": "@jupyter-widgets/controls",
       "_view_module_version": "2.0.0",
       "_view_name": "HBoxView",
       "box_style": "",
       "children": [
        "IPY_MODEL_74a6edfe06374022b771b7217180b9aa",
        "IPY_MODEL_3e6787419caf42c4b03bce48ef39ad5c",
        "IPY_MODEL_43eb2eb5c0b34c5ca4fa20f7314c2a98"
       ],
       "layout": "IPY_MODEL_0ef3e93f554f41bca3237b18b6aef6c4",
       "tabbable": null,
       "tooltip": null
      }
     },
     "9b4dd88895204956a4dc4f84ad516967": {
      "model_module": "@jupyter-widgets/controls",
      "model_module_version": "2.0.0",
      "model_name": "FloatProgressModel",
      "state": {
       "_dom_classes": [],
       "_model_module": "@jupyter-widgets/controls",
       "_model_module_version": "2.0.0",
       "_model_name": "FloatProgressModel",
       "_view_count": null,
       "_view_module": "@jupyter-widgets/controls",
       "_view_module_version": "2.0.0",
       "_view_name": "ProgressView",
       "bar_style": "success",
       "description": "",
       "description_allow_html": false,
       "layout": "IPY_MODEL_51224a547efb4bf5a3944217f5b2457a",
       "max": 46500.0,
       "min": 0.0,
       "orientation": "horizontal",
       "style": "IPY_MODEL_4002b32822cb4769a0038d148df3348b",
       "tabbable": null,
       "tooltip": null,
       "value": 46500.0
      }
     },
     "9dd15f2337cb48189eabae07bb632cc4": {
      "model_module": "@jupyter-widgets/controls",
      "model_module_version": "2.0.0",
      "model_name": "ProgressStyleModel",
      "state": {
       "_model_module": "@jupyter-widgets/controls",
       "_model_module_version": "2.0.0",
       "_model_name": "ProgressStyleModel",
       "_view_count": null,
       "_view_module": "@jupyter-widgets/base",
       "_view_module_version": "2.0.0",
       "_view_name": "StyleView",
       "bar_color": null,
       "description_width": ""
      }
     },
     "9e5775e7a52143de864f8b535c2e7901": {
      "model_module": "@jupyter-widgets/controls",
      "model_module_version": "2.0.0",
      "model_name": "HTMLModel",
      "state": {
       "_dom_classes": [],
       "_model_module": "@jupyter-widgets/controls",
       "_model_module_version": "2.0.0",
       "_model_name": "HTMLModel",
       "_view_count": null,
       "_view_module": "@jupyter-widgets/controls",
       "_view_module_version": "2.0.0",
       "_view_name": "HTMLView",
       "description": "",
       "description_allow_html": false,
       "layout": "IPY_MODEL_803d136bc7ac410a86c7a3414bc127f2",
       "placeholder": "​",
       "style": "IPY_MODEL_d89637158ebf4e31b766e572aefc0ad2",
       "tabbable": null,
       "tooltip": null,
       "value": "Pandas Apply: 100%"
      }
     },
     "aa17f15c8b374172a9863b2c7be87dbc": {
      "model_module": "@jupyter-widgets/controls",
      "model_module_version": "2.0.0",
      "model_name": "HTMLStyleModel",
      "state": {
       "_model_module": "@jupyter-widgets/controls",
       "_model_module_version": "2.0.0",
       "_model_name": "HTMLStyleModel",
       "_view_count": null,
       "_view_module": "@jupyter-widgets/base",
       "_view_module_version": "2.0.0",
       "_view_name": "StyleView",
       "background": null,
       "description_width": "",
       "font_size": null,
       "text_color": null
      }
     },
     "ab370f29f72940f88d06532c2e6dfe6f": {
      "model_module": "@jupyter-widgets/controls",
      "model_module_version": "2.0.0",
      "model_name": "FloatProgressModel",
      "state": {
       "_dom_classes": [],
       "_model_module": "@jupyter-widgets/controls",
       "_model_module_version": "2.0.0",
       "_model_name": "FloatProgressModel",
       "_view_count": null,
       "_view_module": "@jupyter-widgets/controls",
       "_view_module_version": "2.0.0",
       "_view_name": "ProgressView",
       "bar_style": "success",
       "description": "",
       "description_allow_html": false,
       "layout": "IPY_MODEL_cf224e8df1ee4ba2863f109214176c3a",
       "max": 46500.0,
       "min": 0.0,
       "orientation": "horizontal",
       "style": "IPY_MODEL_74db341bd102474a93ec02a7961a9123",
       "tabbable": null,
       "tooltip": null,
       "value": 46500.0
      }
     },
     "ad2358d82fc34c5693636768e6baae8a": {
      "model_module": "@jupyter-widgets/base",
      "model_module_version": "2.0.0",
      "model_name": "LayoutModel",
      "state": {
       "_model_module": "@jupyter-widgets/base",
       "_model_module_version": "2.0.0",
       "_model_name": "LayoutModel",
       "_view_count": null,
       "_view_module": "@jupyter-widgets/base",
       "_view_module_version": "2.0.0",
       "_view_name": "LayoutView",
       "align_content": null,
       "align_items": null,
       "align_self": null,
       "border_bottom": null,
       "border_left": null,
       "border_right": null,
       "border_top": null,
       "bottom": null,
       "display": null,
       "flex": null,
       "flex_flow": null,
       "grid_area": null,
       "grid_auto_columns": null,
       "grid_auto_flow": null,
       "grid_auto_rows": null,
       "grid_column": null,
       "grid_gap": null,
       "grid_row": null,
       "grid_template_areas": null,
       "grid_template_columns": null,
       "grid_template_rows": null,
       "height": null,
       "justify_content": null,
       "justify_items": null,
       "left": null,
       "margin": null,
       "max_height": null,
       "max_width": null,
       "min_height": null,
       "min_width": null,
       "object_fit": null,
       "object_position": null,
       "order": null,
       "overflow": null,
       "padding": null,
       "right": null,
       "top": null,
       "visibility": null,
       "width": null
      }
     },
     "b31fff22fbbd43e3a2dea3069f210d9e": {
      "model_module": "@jupyter-widgets/controls",
      "model_module_version": "2.0.0",
      "model_name": "HTMLModel",
      "state": {
       "_dom_classes": [],
       "_model_module": "@jupyter-widgets/controls",
       "_model_module_version": "2.0.0",
       "_model_name": "HTMLModel",
       "_view_count": null,
       "_view_module": "@jupyter-widgets/controls",
       "_view_module_version": "2.0.0",
       "_view_name": "HTMLView",
       "description": "",
       "description_allow_html": false,
       "layout": "IPY_MODEL_20a9fb62061d4528ad4bf819cb22c278",
       "placeholder": "​",
       "style": "IPY_MODEL_187fae2d85b240f8adad34b5769a2aa4",
       "tabbable": null,
       "tooltip": null,
       "value": "Pandas Apply: 100%"
      }
     },
     "b3faf71b2b8c470bbd2984b88c37e9de": {
      "model_module": "@jupyter-widgets/base",
      "model_module_version": "2.0.0",
      "model_name": "LayoutModel",
      "state": {
       "_model_module": "@jupyter-widgets/base",
       "_model_module_version": "2.0.0",
       "_model_name": "LayoutModel",
       "_view_count": null,
       "_view_module": "@jupyter-widgets/base",
       "_view_module_version": "2.0.0",
       "_view_name": "LayoutView",
       "align_content": null,
       "align_items": null,
       "align_self": null,
       "border_bottom": null,
       "border_left": null,
       "border_right": null,
       "border_top": null,
       "bottom": null,
       "display": null,
       "flex": null,
       "flex_flow": null,
       "grid_area": null,
       "grid_auto_columns": null,
       "grid_auto_flow": null,
       "grid_auto_rows": null,
       "grid_column": null,
       "grid_gap": null,
       "grid_row": null,
       "grid_template_areas": null,
       "grid_template_columns": null,
       "grid_template_rows": null,
       "height": null,
       "justify_content": null,
       "justify_items": null,
       "left": null,
       "margin": null,
       "max_height": null,
       "max_width": null,
       "min_height": null,
       "min_width": null,
       "object_fit": null,
       "object_position": null,
       "order": null,
       "overflow": null,
       "padding": null,
       "right": null,
       "top": null,
       "visibility": null,
       "width": null
      }
     },
     "bb12d0b4fc4d415c907d762f08c44491": {
      "model_module": "@jupyter-widgets/base",
      "model_module_version": "2.0.0",
      "model_name": "LayoutModel",
      "state": {
       "_model_module": "@jupyter-widgets/base",
       "_model_module_version": "2.0.0",
       "_model_name": "LayoutModel",
       "_view_count": null,
       "_view_module": "@jupyter-widgets/base",
       "_view_module_version": "2.0.0",
       "_view_name": "LayoutView",
       "align_content": null,
       "align_items": null,
       "align_self": null,
       "border_bottom": null,
       "border_left": null,
       "border_right": null,
       "border_top": null,
       "bottom": null,
       "display": null,
       "flex": null,
       "flex_flow": null,
       "grid_area": null,
       "grid_auto_columns": null,
       "grid_auto_flow": null,
       "grid_auto_rows": null,
       "grid_column": null,
       "grid_gap": null,
       "grid_row": null,
       "grid_template_areas": null,
       "grid_template_columns": null,
       "grid_template_rows": null,
       "height": null,
       "justify_content": null,
       "justify_items": null,
       "left": null,
       "margin": null,
       "max_height": null,
       "max_width": null,
       "min_height": null,
       "min_width": null,
       "object_fit": null,
       "object_position": null,
       "order": null,
       "overflow": null,
       "padding": null,
       "right": null,
       "top": null,
       "visibility": null,
       "width": null
      }
     },
     "bf537deee63046919503a91a372575cd": {
      "model_module": "@jupyter-widgets/controls",
      "model_module_version": "2.0.0",
      "model_name": "HBoxModel",
      "state": {
       "_dom_classes": [],
       "_model_module": "@jupyter-widgets/controls",
       "_model_module_version": "2.0.0",
       "_model_name": "HBoxModel",
       "_view_count": null,
       "_view_module": "@jupyter-widgets/controls",
       "_view_module_version": "2.0.0",
       "_view_name": "HBoxView",
       "box_style": "",
       "children": [
        "IPY_MODEL_e1fb63052e6b48d29f84fff35440e854",
        "IPY_MODEL_79635b7cace640748513f4a0c50625bd",
        "IPY_MODEL_c8abfc83d6f84e0a822d248e999b0226"
       ],
       "layout": "IPY_MODEL_2a5ee1d5ac8048769b6a8a022ab2954c",
       "tabbable": null,
       "tooltip": null
      }
     },
     "c491cac995174b6a9d11f0f3f6aefe46": {
      "model_module": "@jupyter-widgets/base",
      "model_module_version": "2.0.0",
      "model_name": "LayoutModel",
      "state": {
       "_model_module": "@jupyter-widgets/base",
       "_model_module_version": "2.0.0",
       "_model_name": "LayoutModel",
       "_view_count": null,
       "_view_module": "@jupyter-widgets/base",
       "_view_module_version": "2.0.0",
       "_view_name": "LayoutView",
       "align_content": null,
       "align_items": null,
       "align_self": null,
       "border_bottom": null,
       "border_left": null,
       "border_right": null,
       "border_top": null,
       "bottom": null,
       "display": null,
       "flex": null,
       "flex_flow": null,
       "grid_area": null,
       "grid_auto_columns": null,
       "grid_auto_flow": null,
       "grid_auto_rows": null,
       "grid_column": null,
       "grid_gap": null,
       "grid_row": null,
       "grid_template_areas": null,
       "grid_template_columns": null,
       "grid_template_rows": null,
       "height": null,
       "justify_content": null,
       "justify_items": null,
       "left": null,
       "margin": null,
       "max_height": null,
       "max_width": null,
       "min_height": null,
       "min_width": null,
       "object_fit": null,
       "object_position": null,
       "order": null,
       "overflow": null,
       "padding": null,
       "right": null,
       "top": null,
       "visibility": null,
       "width": null
      }
     },
     "c6be9ace9525465885f40c0aad06cd85": {
      "model_module": "@jupyter-widgets/controls",
      "model_module_version": "2.0.0",
      "model_name": "ProgressStyleModel",
      "state": {
       "_model_module": "@jupyter-widgets/controls",
       "_model_module_version": "2.0.0",
       "_model_name": "ProgressStyleModel",
       "_view_count": null,
       "_view_module": "@jupyter-widgets/base",
       "_view_module_version": "2.0.0",
       "_view_name": "StyleView",
       "bar_color": null,
       "description_width": ""
      }
     },
     "c8abfc83d6f84e0a822d248e999b0226": {
      "model_module": "@jupyter-widgets/controls",
      "model_module_version": "2.0.0",
      "model_name": "HTMLModel",
      "state": {
       "_dom_classes": [],
       "_model_module": "@jupyter-widgets/controls",
       "_model_module_version": "2.0.0",
       "_model_name": "HTMLModel",
       "_view_count": null,
       "_view_module": "@jupyter-widgets/controls",
       "_view_module_version": "2.0.0",
       "_view_name": "HTMLView",
       "description": "",
       "description_allow_html": false,
       "layout": "IPY_MODEL_e4fa08366f3844a5b1d59aec6d7295fa",
       "placeholder": "​",
       "style": "IPY_MODEL_48048354edb147af955b2ef475904a87",
       "tabbable": null,
       "tooltip": null,
       "value": " 46500/46500 [05:02&lt;00:00, 157.22it/s]"
      }
     },
     "c998253bd3b349e1b67faa3c16989a7c": {
      "model_module": "@jupyter-widgets/controls",
      "model_module_version": "2.0.0",
      "model_name": "HTMLStyleModel",
      "state": {
       "_model_module": "@jupyter-widgets/controls",
       "_model_module_version": "2.0.0",
       "_model_name": "HTMLStyleModel",
       "_view_count": null,
       "_view_module": "@jupyter-widgets/base",
       "_view_module_version": "2.0.0",
       "_view_name": "StyleView",
       "background": null,
       "description_width": "",
       "font_size": null,
       "text_color": null
      }
     },
     "ccf01d1e0b5c42f5954908e658f3ed8f": {
      "model_module": "@jupyter-widgets/controls",
      "model_module_version": "2.0.0",
      "model_name": "HTMLStyleModel",
      "state": {
       "_model_module": "@jupyter-widgets/controls",
       "_model_module_version": "2.0.0",
       "_model_name": "HTMLStyleModel",
       "_view_count": null,
       "_view_module": "@jupyter-widgets/base",
       "_view_module_version": "2.0.0",
       "_view_name": "StyleView",
       "background": null,
       "description_width": "",
       "font_size": null,
       "text_color": null
      }
     },
     "cdf074f04a784ce98bf6ec94c477f70a": {
      "model_module": "@jupyter-widgets/controls",
      "model_module_version": "2.0.0",
      "model_name": "FloatProgressModel",
      "state": {
       "_dom_classes": [],
       "_model_module": "@jupyter-widgets/controls",
       "_model_module_version": "2.0.0",
       "_model_name": "FloatProgressModel",
       "_view_count": null,
       "_view_module": "@jupyter-widgets/controls",
       "_view_module_version": "2.0.0",
       "_view_name": "ProgressView",
       "bar_style": "success",
       "description": "",
       "description_allow_html": false,
       "layout": "IPY_MODEL_3391e226385341168d130ac9381a182f",
       "max": 46500.0,
       "min": 0.0,
       "orientation": "horizontal",
       "style": "IPY_MODEL_9dd15f2337cb48189eabae07bb632cc4",
       "tabbable": null,
       "tooltip": null,
       "value": 46500.0
      }
     },
     "ce77fc755f164c7d9b86973e064e0074": {
      "model_module": "@jupyter-widgets/controls",
      "model_module_version": "2.0.0",
      "model_name": "HTMLModel",
      "state": {
       "_dom_classes": [],
       "_model_module": "@jupyter-widgets/controls",
       "_model_module_version": "2.0.0",
       "_model_name": "HTMLModel",
       "_view_count": null,
       "_view_module": "@jupyter-widgets/controls",
       "_view_module_version": "2.0.0",
       "_view_name": "HTMLView",
       "description": "",
       "description_allow_html": false,
       "layout": "IPY_MODEL_d198bc7f60664ce289c3bd0fe6e843d8",
       "placeholder": "​",
       "style": "IPY_MODEL_06301778fd22497d9d7fd664a9576184",
       "tabbable": null,
       "tooltip": null,
       "value": " 46500/46500 [15:54&lt;00:00, 37.50it/s]"
      }
     },
     "cf224e8df1ee4ba2863f109214176c3a": {
      "model_module": "@jupyter-widgets/base",
      "model_module_version": "2.0.0",
      "model_name": "LayoutModel",
      "state": {
       "_model_module": "@jupyter-widgets/base",
       "_model_module_version": "2.0.0",
       "_model_name": "LayoutModel",
       "_view_count": null,
       "_view_module": "@jupyter-widgets/base",
       "_view_module_version": "2.0.0",
       "_view_name": "LayoutView",
       "align_content": null,
       "align_items": null,
       "align_self": null,
       "border_bottom": null,
       "border_left": null,
       "border_right": null,
       "border_top": null,
       "bottom": null,
       "display": null,
       "flex": null,
       "flex_flow": null,
       "grid_area": null,
       "grid_auto_columns": null,
       "grid_auto_flow": null,
       "grid_auto_rows": null,
       "grid_column": null,
       "grid_gap": null,
       "grid_row": null,
       "grid_template_areas": null,
       "grid_template_columns": null,
       "grid_template_rows": null,
       "height": null,
       "justify_content": null,
       "justify_items": null,
       "left": null,
       "margin": null,
       "max_height": null,
       "max_width": null,
       "min_height": null,
       "min_width": null,
       "object_fit": null,
       "object_position": null,
       "order": null,
       "overflow": null,
       "padding": null,
       "right": null,
       "top": null,
       "visibility": null,
       "width": null
      }
     },
     "d10af0188ce64b4eac94064b38fd6aba": {
      "model_module": "@jupyter-widgets/base",
      "model_module_version": "2.0.0",
      "model_name": "LayoutModel",
      "state": {
       "_model_module": "@jupyter-widgets/base",
       "_model_module_version": "2.0.0",
       "_model_name": "LayoutModel",
       "_view_count": null,
       "_view_module": "@jupyter-widgets/base",
       "_view_module_version": "2.0.0",
       "_view_name": "LayoutView",
       "align_content": null,
       "align_items": null,
       "align_self": null,
       "border_bottom": null,
       "border_left": null,
       "border_right": null,
       "border_top": null,
       "bottom": null,
       "display": null,
       "flex": null,
       "flex_flow": null,
       "grid_area": null,
       "grid_auto_columns": null,
       "grid_auto_flow": null,
       "grid_auto_rows": null,
       "grid_column": null,
       "grid_gap": null,
       "grid_row": null,
       "grid_template_areas": null,
       "grid_template_columns": null,
       "grid_template_rows": null,
       "height": null,
       "justify_content": null,
       "justify_items": null,
       "left": null,
       "margin": null,
       "max_height": null,
       "max_width": null,
       "min_height": null,
       "min_width": null,
       "object_fit": null,
       "object_position": null,
       "order": null,
       "overflow": null,
       "padding": null,
       "right": null,
       "top": null,
       "visibility": null,
       "width": null
      }
     },
     "d198bc7f60664ce289c3bd0fe6e843d8": {
      "model_module": "@jupyter-widgets/base",
      "model_module_version": "2.0.0",
      "model_name": "LayoutModel",
      "state": {
       "_model_module": "@jupyter-widgets/base",
       "_model_module_version": "2.0.0",
       "_model_name": "LayoutModel",
       "_view_count": null,
       "_view_module": "@jupyter-widgets/base",
       "_view_module_version": "2.0.0",
       "_view_name": "LayoutView",
       "align_content": null,
       "align_items": null,
       "align_self": null,
       "border_bottom": null,
       "border_left": null,
       "border_right": null,
       "border_top": null,
       "bottom": null,
       "display": null,
       "flex": null,
       "flex_flow": null,
       "grid_area": null,
       "grid_auto_columns": null,
       "grid_auto_flow": null,
       "grid_auto_rows": null,
       "grid_column": null,
       "grid_gap": null,
       "grid_row": null,
       "grid_template_areas": null,
       "grid_template_columns": null,
       "grid_template_rows": null,
       "height": null,
       "justify_content": null,
       "justify_items": null,
       "left": null,
       "margin": null,
       "max_height": null,
       "max_width": null,
       "min_height": null,
       "min_width": null,
       "object_fit": null,
       "object_position": null,
       "order": null,
       "overflow": null,
       "padding": null,
       "right": null,
       "top": null,
       "visibility": null,
       "width": null
      }
     },
     "d25c3a91871644b785a18dee488ceaf7": {
      "model_module": "@jupyter-widgets/base",
      "model_module_version": "2.0.0",
      "model_name": "LayoutModel",
      "state": {
       "_model_module": "@jupyter-widgets/base",
       "_model_module_version": "2.0.0",
       "_model_name": "LayoutModel",
       "_view_count": null,
       "_view_module": "@jupyter-widgets/base",
       "_view_module_version": "2.0.0",
       "_view_name": "LayoutView",
       "align_content": null,
       "align_items": null,
       "align_self": null,
       "border_bottom": null,
       "border_left": null,
       "border_right": null,
       "border_top": null,
       "bottom": null,
       "display": null,
       "flex": null,
       "flex_flow": null,
       "grid_area": null,
       "grid_auto_columns": null,
       "grid_auto_flow": null,
       "grid_auto_rows": null,
       "grid_column": null,
       "grid_gap": null,
       "grid_row": null,
       "grid_template_areas": null,
       "grid_template_columns": null,
       "grid_template_rows": null,
       "height": null,
       "justify_content": null,
       "justify_items": null,
       "left": null,
       "margin": null,
       "max_height": null,
       "max_width": null,
       "min_height": null,
       "min_width": null,
       "object_fit": null,
       "object_position": null,
       "order": null,
       "overflow": null,
       "padding": null,
       "right": null,
       "top": null,
       "visibility": null,
       "width": null
      }
     },
     "d721f1798e6a4c799845a3567775eb62": {
      "model_module": "@jupyter-widgets/controls",
      "model_module_version": "2.0.0",
      "model_name": "HTMLStyleModel",
      "state": {
       "_model_module": "@jupyter-widgets/controls",
       "_model_module_version": "2.0.0",
       "_model_name": "HTMLStyleModel",
       "_view_count": null,
       "_view_module": "@jupyter-widgets/base",
       "_view_module_version": "2.0.0",
       "_view_name": "StyleView",
       "background": null,
       "description_width": "",
       "font_size": null,
       "text_color": null
      }
     },
     "d89637158ebf4e31b766e572aefc0ad2": {
      "model_module": "@jupyter-widgets/controls",
      "model_module_version": "2.0.0",
      "model_name": "HTMLStyleModel",
      "state": {
       "_model_module": "@jupyter-widgets/controls",
       "_model_module_version": "2.0.0",
       "_model_name": "HTMLStyleModel",
       "_view_count": null,
       "_view_module": "@jupyter-widgets/base",
       "_view_module_version": "2.0.0",
       "_view_name": "StyleView",
       "background": null,
       "description_width": "",
       "font_size": null,
       "text_color": null
      }
     },
     "da389d9628f34a33bd90703483e7cdee": {
      "model_module": "@jupyter-widgets/controls",
      "model_module_version": "2.0.0",
      "model_name": "HTMLModel",
      "state": {
       "_dom_classes": [],
       "_model_module": "@jupyter-widgets/controls",
       "_model_module_version": "2.0.0",
       "_model_name": "HTMLModel",
       "_view_count": null,
       "_view_module": "@jupyter-widgets/controls",
       "_view_module_version": "2.0.0",
       "_view_name": "HTMLView",
       "description": "",
       "description_allow_html": false,
       "layout": "IPY_MODEL_f5b776a8049a4e03803ed9e6a575a187",
       "placeholder": "​",
       "style": "IPY_MODEL_eef044f625a240aebcbe63b0e412e6fa",
       "tabbable": null,
       "tooltip": null,
       "value": "Pandas Apply: 100%"
      }
     },
     "db5f86c28a9f45edbce54a84b77c7ddc": {
      "model_module": "@jupyter-widgets/base",
      "model_module_version": "2.0.0",
      "model_name": "LayoutModel",
      "state": {
       "_model_module": "@jupyter-widgets/base",
       "_model_module_version": "2.0.0",
       "_model_name": "LayoutModel",
       "_view_count": null,
       "_view_module": "@jupyter-widgets/base",
       "_view_module_version": "2.0.0",
       "_view_name": "LayoutView",
       "align_content": null,
       "align_items": null,
       "align_self": null,
       "border_bottom": null,
       "border_left": null,
       "border_right": null,
       "border_top": null,
       "bottom": null,
       "display": null,
       "flex": null,
       "flex_flow": null,
       "grid_area": null,
       "grid_auto_columns": null,
       "grid_auto_flow": null,
       "grid_auto_rows": null,
       "grid_column": null,
       "grid_gap": null,
       "grid_row": null,
       "grid_template_areas": null,
       "grid_template_columns": null,
       "grid_template_rows": null,
       "height": null,
       "justify_content": null,
       "justify_items": null,
       "left": null,
       "margin": null,
       "max_height": null,
       "max_width": null,
       "min_height": null,
       "min_width": null,
       "object_fit": null,
       "object_position": null,
       "order": null,
       "overflow": null,
       "padding": null,
       "right": null,
       "top": null,
       "visibility": null,
       "width": null
      }
     },
     "dc14ffbec9e3418bb3028ad44645f0e2": {
      "model_module": "@jupyter-widgets/controls",
      "model_module_version": "2.0.0",
      "model_name": "HBoxModel",
      "state": {
       "_dom_classes": [],
       "_model_module": "@jupyter-widgets/controls",
       "_model_module_version": "2.0.0",
       "_model_name": "HBoxModel",
       "_view_count": null,
       "_view_module": "@jupyter-widgets/controls",
       "_view_module_version": "2.0.0",
       "_view_name": "HBoxView",
       "box_style": "",
       "children": [
        "IPY_MODEL_818e27031d6247aa835bcd065abedc1b",
        "IPY_MODEL_9750053e5b8c46eca5eacc678dc48a10",
        "IPY_MODEL_ecbff1930270479ab58e5bbe1f2b5431"
       ],
       "layout": "IPY_MODEL_4faa9b1e1f7f429b8044843432420781",
       "tabbable": null,
       "tooltip": null
      }
     },
     "dd416ceb49184c3fb64bcfba9505bd46": {
      "model_module": "@jupyter-widgets/base",
      "model_module_version": "2.0.0",
      "model_name": "LayoutModel",
      "state": {
       "_model_module": "@jupyter-widgets/base",
       "_model_module_version": "2.0.0",
       "_model_name": "LayoutModel",
       "_view_count": null,
       "_view_module": "@jupyter-widgets/base",
       "_view_module_version": "2.0.0",
       "_view_name": "LayoutView",
       "align_content": null,
       "align_items": null,
       "align_self": null,
       "border_bottom": null,
       "border_left": null,
       "border_right": null,
       "border_top": null,
       "bottom": null,
       "display": null,
       "flex": null,
       "flex_flow": null,
       "grid_area": null,
       "grid_auto_columns": null,
       "grid_auto_flow": null,
       "grid_auto_rows": null,
       "grid_column": null,
       "grid_gap": null,
       "grid_row": null,
       "grid_template_areas": null,
       "grid_template_columns": null,
       "grid_template_rows": null,
       "height": null,
       "justify_content": null,
       "justify_items": null,
       "left": null,
       "margin": null,
       "max_height": null,
       "max_width": null,
       "min_height": null,
       "min_width": null,
       "object_fit": null,
       "object_position": null,
       "order": null,
       "overflow": null,
       "padding": null,
       "right": null,
       "top": null,
       "visibility": null,
       "width": null
      }
     },
     "df6bea94798a45fc92973e1ae3830e90": {
      "model_module": "@jupyter-widgets/controls",
      "model_module_version": "2.0.0",
      "model_name": "HTMLStyleModel",
      "state": {
       "_model_module": "@jupyter-widgets/controls",
       "_model_module_version": "2.0.0",
       "_model_name": "HTMLStyleModel",
       "_view_count": null,
       "_view_module": "@jupyter-widgets/base",
       "_view_module_version": "2.0.0",
       "_view_name": "StyleView",
       "background": null,
       "description_width": "",
       "font_size": null,
       "text_color": null
      }
     },
     "e1fb63052e6b48d29f84fff35440e854": {
      "model_module": "@jupyter-widgets/controls",
      "model_module_version": "2.0.0",
      "model_name": "HTMLModel",
      "state": {
       "_dom_classes": [],
       "_model_module": "@jupyter-widgets/controls",
       "_model_module_version": "2.0.0",
       "_model_name": "HTMLModel",
       "_view_count": null,
       "_view_module": "@jupyter-widgets/controls",
       "_view_module_version": "2.0.0",
       "_view_name": "HTMLView",
       "description": "",
       "description_allow_html": false,
       "layout": "IPY_MODEL_26a3f77c92a842b788a5dff2bc3b7656",
       "placeholder": "​",
       "style": "IPY_MODEL_0f045f8a59974deebacea5d9a24f88ce",
       "tabbable": null,
       "tooltip": null,
       "value": "Pandas Apply: 100%"
      }
     },
     "e4fa08366f3844a5b1d59aec6d7295fa": {
      "model_module": "@jupyter-widgets/base",
      "model_module_version": "2.0.0",
      "model_name": "LayoutModel",
      "state": {
       "_model_module": "@jupyter-widgets/base",
       "_model_module_version": "2.0.0",
       "_model_name": "LayoutModel",
       "_view_count": null,
       "_view_module": "@jupyter-widgets/base",
       "_view_module_version": "2.0.0",
       "_view_name": "LayoutView",
       "align_content": null,
       "align_items": null,
       "align_self": null,
       "border_bottom": null,
       "border_left": null,
       "border_right": null,
       "border_top": null,
       "bottom": null,
       "display": null,
       "flex": null,
       "flex_flow": null,
       "grid_area": null,
       "grid_auto_columns": null,
       "grid_auto_flow": null,
       "grid_auto_rows": null,
       "grid_column": null,
       "grid_gap": null,
       "grid_row": null,
       "grid_template_areas": null,
       "grid_template_columns": null,
       "grid_template_rows": null,
       "height": null,
       "justify_content": null,
       "justify_items": null,
       "left": null,
       "margin": null,
       "max_height": null,
       "max_width": null,
       "min_height": null,
       "min_width": null,
       "object_fit": null,
       "object_position": null,
       "order": null,
       "overflow": null,
       "padding": null,
       "right": null,
       "top": null,
       "visibility": null,
       "width": null
      }
     },
     "e58ccec9a98148778883c1b3eb03a8df": {
      "model_module": "@jupyter-widgets/base",
      "model_module_version": "2.0.0",
      "model_name": "LayoutModel",
      "state": {
       "_model_module": "@jupyter-widgets/base",
       "_model_module_version": "2.0.0",
       "_model_name": "LayoutModel",
       "_view_count": null,
       "_view_module": "@jupyter-widgets/base",
       "_view_module_version": "2.0.0",
       "_view_name": "LayoutView",
       "align_content": null,
       "align_items": null,
       "align_self": null,
       "border_bottom": null,
       "border_left": null,
       "border_right": null,
       "border_top": null,
       "bottom": null,
       "display": null,
       "flex": null,
       "flex_flow": null,
       "grid_area": null,
       "grid_auto_columns": null,
       "grid_auto_flow": null,
       "grid_auto_rows": null,
       "grid_column": null,
       "grid_gap": null,
       "grid_row": null,
       "grid_template_areas": null,
       "grid_template_columns": null,
       "grid_template_rows": null,
       "height": null,
       "justify_content": null,
       "justify_items": null,
       "left": null,
       "margin": null,
       "max_height": null,
       "max_width": null,
       "min_height": null,
       "min_width": null,
       "object_fit": null,
       "object_position": null,
       "order": null,
       "overflow": null,
       "padding": null,
       "right": null,
       "top": null,
       "visibility": null,
       "width": null
      }
     },
     "e63627dfcb4840b789f001dbe1e0efba": {
      "model_module": "@jupyter-widgets/controls",
      "model_module_version": "2.0.0",
      "model_name": "ProgressStyleModel",
      "state": {
       "_model_module": "@jupyter-widgets/controls",
       "_model_module_version": "2.0.0",
       "_model_name": "ProgressStyleModel",
       "_view_count": null,
       "_view_module": "@jupyter-widgets/base",
       "_view_module_version": "2.0.0",
       "_view_name": "StyleView",
       "bar_color": null,
       "description_width": ""
      }
     },
     "e8eb983c6a6a494a94f2c1d8955167ea": {
      "model_module": "@jupyter-widgets/controls",
      "model_module_version": "2.0.0",
      "model_name": "HTMLModel",
      "state": {
       "_dom_classes": [],
       "_model_module": "@jupyter-widgets/controls",
       "_model_module_version": "2.0.0",
       "_model_name": "HTMLModel",
       "_view_count": null,
       "_view_module": "@jupyter-widgets/controls",
       "_view_module_version": "2.0.0",
       "_view_name": "HTMLView",
       "description": "",
       "description_allow_html": false,
       "layout": "IPY_MODEL_60b3eb27ae664d029fcc656c203b2d21",
       "placeholder": "​",
       "style": "IPY_MODEL_f737481921424939b9639336e4818831",
       "tabbable": null,
       "tooltip": null,
       "value": " 46500/46500 [08:54&lt;00:00, 61.85it/s]"
      }
     },
     "ecbff1930270479ab58e5bbe1f2b5431": {
      "model_module": "@jupyter-widgets/controls",
      "model_module_version": "2.0.0",
      "model_name": "HTMLModel",
      "state": {
       "_dom_classes": [],
       "_model_module": "@jupyter-widgets/controls",
       "_model_module_version": "2.0.0",
       "_model_name": "HTMLModel",
       "_view_count": null,
       "_view_module": "@jupyter-widgets/controls",
       "_view_module_version": "2.0.0",
       "_view_name": "HTMLView",
       "description": "",
       "description_allow_html": false,
       "layout": "IPY_MODEL_db5f86c28a9f45edbce54a84b77c7ddc",
       "placeholder": "​",
       "style": "IPY_MODEL_ccf01d1e0b5c42f5954908e658f3ed8f",
       "tabbable": null,
       "tooltip": null,
       "value": " 46500/46500 [00:16&lt;00:00, 2717.42it/s]"
      }
     },
     "ed03dfa02ae14070ac0f8bc462a294e9": {
      "model_module": "@jupyter-widgets/base",
      "model_module_version": "2.0.0",
      "model_name": "LayoutModel",
      "state": {
       "_model_module": "@jupyter-widgets/base",
       "_model_module_version": "2.0.0",
       "_model_name": "LayoutModel",
       "_view_count": null,
       "_view_module": "@jupyter-widgets/base",
       "_view_module_version": "2.0.0",
       "_view_name": "LayoutView",
       "align_content": null,
       "align_items": null,
       "align_self": null,
       "border_bottom": null,
       "border_left": null,
       "border_right": null,
       "border_top": null,
       "bottom": null,
       "display": null,
       "flex": null,
       "flex_flow": null,
       "grid_area": null,
       "grid_auto_columns": null,
       "grid_auto_flow": null,
       "grid_auto_rows": null,
       "grid_column": null,
       "grid_gap": null,
       "grid_row": null,
       "grid_template_areas": null,
       "grid_template_columns": null,
       "grid_template_rows": null,
       "height": null,
       "justify_content": null,
       "justify_items": null,
       "left": null,
       "margin": null,
       "max_height": null,
       "max_width": null,
       "min_height": null,
       "min_width": null,
       "object_fit": null,
       "object_position": null,
       "order": null,
       "overflow": null,
       "padding": null,
       "right": null,
       "top": null,
       "visibility": null,
       "width": null
      }
     },
     "eede78e0e8054b06ae07df01e12cd455": {
      "model_module": "@jupyter-widgets/controls",
      "model_module_version": "2.0.0",
      "model_name": "HTMLModel",
      "state": {
       "_dom_classes": [],
       "_model_module": "@jupyter-widgets/controls",
       "_model_module_version": "2.0.0",
       "_model_name": "HTMLModel",
       "_view_count": null,
       "_view_module": "@jupyter-widgets/controls",
       "_view_module_version": "2.0.0",
       "_view_name": "HTMLView",
       "description": "",
       "description_allow_html": false,
       "layout": "IPY_MODEL_397c25439f0e45a1bab0b73f8d57d5ac",
       "placeholder": "​",
       "style": "IPY_MODEL_039afac7b2674aea8903152bd953a6c3",
       "tabbable": null,
       "tooltip": null,
       "value": " 46500/46500 [00:50&lt;00:00, 919.60it/s]"
      }
     },
     "eef044f625a240aebcbe63b0e412e6fa": {
      "model_module": "@jupyter-widgets/controls",
      "model_module_version": "2.0.0",
      "model_name": "HTMLStyleModel",
      "state": {
       "_model_module": "@jupyter-widgets/controls",
       "_model_module_version": "2.0.0",
       "_model_name": "HTMLStyleModel",
       "_view_count": null,
       "_view_module": "@jupyter-widgets/base",
       "_view_module_version": "2.0.0",
       "_view_name": "StyleView",
       "background": null,
       "description_width": "",
       "font_size": null,
       "text_color": null
      }
     },
     "f4b913a984d446a0ae414fc9a63dcf36": {
      "model_module": "@jupyter-widgets/controls",
      "model_module_version": "2.0.0",
      "model_name": "HBoxModel",
      "state": {
       "_dom_classes": [],
       "_model_module": "@jupyter-widgets/controls",
       "_model_module_version": "2.0.0",
       "_model_name": "HBoxModel",
       "_view_count": null,
       "_view_module": "@jupyter-widgets/controls",
       "_view_module_version": "2.0.0",
       "_view_name": "HBoxView",
       "box_style": "",
       "children": [
        "IPY_MODEL_4d571abb753447c184a767cc85472247",
        "IPY_MODEL_48a0252d75804522ad9f040615af38f4",
        "IPY_MODEL_e8eb983c6a6a494a94f2c1d8955167ea"
       ],
       "layout": "IPY_MODEL_6387712096cd4cc995f9202a82b27f18",
       "tabbable": null,
       "tooltip": null
      }
     },
     "f559112ead7e4d26991777529be2b831": {
      "model_module": "@jupyter-widgets/controls",
      "model_module_version": "2.0.0",
      "model_name": "ProgressStyleModel",
      "state": {
       "_model_module": "@jupyter-widgets/controls",
       "_model_module_version": "2.0.0",
       "_model_name": "ProgressStyleModel",
       "_view_count": null,
       "_view_module": "@jupyter-widgets/base",
       "_view_module_version": "2.0.0",
       "_view_name": "StyleView",
       "bar_color": null,
       "description_width": ""
      }
     },
     "f5b776a8049a4e03803ed9e6a575a187": {
      "model_module": "@jupyter-widgets/base",
      "model_module_version": "2.0.0",
      "model_name": "LayoutModel",
      "state": {
       "_model_module": "@jupyter-widgets/base",
       "_model_module_version": "2.0.0",
       "_model_name": "LayoutModel",
       "_view_count": null,
       "_view_module": "@jupyter-widgets/base",
       "_view_module_version": "2.0.0",
       "_view_name": "LayoutView",
       "align_content": null,
       "align_items": null,
       "align_self": null,
       "border_bottom": null,
       "border_left": null,
       "border_right": null,
       "border_top": null,
       "bottom": null,
       "display": null,
       "flex": null,
       "flex_flow": null,
       "grid_area": null,
       "grid_auto_columns": null,
       "grid_auto_flow": null,
       "grid_auto_rows": null,
       "grid_column": null,
       "grid_gap": null,
       "grid_row": null,
       "grid_template_areas": null,
       "grid_template_columns": null,
       "grid_template_rows": null,
       "height": null,
       "justify_content": null,
       "justify_items": null,
       "left": null,
       "margin": null,
       "max_height": null,
       "max_width": null,
       "min_height": null,
       "min_width": null,
       "object_fit": null,
       "object_position": null,
       "order": null,
       "overflow": null,
       "padding": null,
       "right": null,
       "top": null,
       "visibility": null,
       "width": null
      }
     },
     "f737481921424939b9639336e4818831": {
      "model_module": "@jupyter-widgets/controls",
      "model_module_version": "2.0.0",
      "model_name": "HTMLStyleModel",
      "state": {
       "_model_module": "@jupyter-widgets/controls",
       "_model_module_version": "2.0.0",
       "_model_name": "HTMLStyleModel",
       "_view_count": null,
       "_view_module": "@jupyter-widgets/base",
       "_view_module_version": "2.0.0",
       "_view_name": "StyleView",
       "background": null,
       "description_width": "",
       "font_size": null,
       "text_color": null
      }
     },
     "f78eab5f71b540b596cf20bc709be566": {
      "model_module": "@jupyter-widgets/base",
      "model_module_version": "2.0.0",
      "model_name": "LayoutModel",
      "state": {
       "_model_module": "@jupyter-widgets/base",
       "_model_module_version": "2.0.0",
       "_model_name": "LayoutModel",
       "_view_count": null,
       "_view_module": "@jupyter-widgets/base",
       "_view_module_version": "2.0.0",
       "_view_name": "LayoutView",
       "align_content": null,
       "align_items": null,
       "align_self": null,
       "border_bottom": null,
       "border_left": null,
       "border_right": null,
       "border_top": null,
       "bottom": null,
       "display": null,
       "flex": null,
       "flex_flow": null,
       "grid_area": null,
       "grid_auto_columns": null,
       "grid_auto_flow": null,
       "grid_auto_rows": null,
       "grid_column": null,
       "grid_gap": null,
       "grid_row": null,
       "grid_template_areas": null,
       "grid_template_columns": null,
       "grid_template_rows": null,
       "height": null,
       "justify_content": null,
       "justify_items": null,
       "left": null,
       "margin": null,
       "max_height": null,
       "max_width": null,
       "min_height": null,
       "min_width": null,
       "object_fit": null,
       "object_position": null,
       "order": null,
       "overflow": null,
       "padding": null,
       "right": null,
       "top": null,
       "visibility": null,
       "width": null
      }
     },
     "fa3694d3f24f4d2681e9aa2eee846c0f": {
      "model_module": "@jupyter-widgets/base",
      "model_module_version": "2.0.0",
      "model_name": "LayoutModel",
      "state": {
       "_model_module": "@jupyter-widgets/base",
       "_model_module_version": "2.0.0",
       "_model_name": "LayoutModel",
       "_view_count": null,
       "_view_module": "@jupyter-widgets/base",
       "_view_module_version": "2.0.0",
       "_view_name": "LayoutView",
       "align_content": null,
       "align_items": null,
       "align_self": null,
       "border_bottom": null,
       "border_left": null,
       "border_right": null,
       "border_top": null,
       "bottom": null,
       "display": null,
       "flex": null,
       "flex_flow": null,
       "grid_area": null,
       "grid_auto_columns": null,
       "grid_auto_flow": null,
       "grid_auto_rows": null,
       "grid_column": null,
       "grid_gap": null,
       "grid_row": null,
       "grid_template_areas": null,
       "grid_template_columns": null,
       "grid_template_rows": null,
       "height": null,
       "justify_content": null,
       "justify_items": null,
       "left": null,
       "margin": null,
       "max_height": null,
       "max_width": null,
       "min_height": null,
       "min_width": null,
       "object_fit": null,
       "object_position": null,
       "order": null,
       "overflow": null,
       "padding": null,
       "right": null,
       "top": null,
       "visibility": null,
       "width": null
      }
     },
     "fc6f6de8926b4767928511c769cad496": {
      "model_module": "@jupyter-widgets/controls",
      "model_module_version": "2.0.0",
      "model_name": "HTMLModel",
      "state": {
       "_dom_classes": [],
       "_model_module": "@jupyter-widgets/controls",
       "_model_module_version": "2.0.0",
       "_model_name": "HTMLModel",
       "_view_count": null,
       "_view_module": "@jupyter-widgets/controls",
       "_view_module_version": "2.0.0",
       "_view_name": "HTMLView",
       "description": "",
       "description_allow_html": false,
       "layout": "IPY_MODEL_39b41de128b049dcbee4ac4a09b49017",
       "placeholder": "​",
       "style": "IPY_MODEL_016e6f206f654e73b8ffd97e54fd5020",
       "tabbable": null,
       "tooltip": null,
       "value": " 46500/46500 [00:00&lt;00:00, 538054.68it/s]"
      }
     },
     "fcbca7e53cf746e1934b8359489f7d47": {
      "model_module": "@jupyter-widgets/base",
      "model_module_version": "2.0.0",
      "model_name": "LayoutModel",
      "state": {
       "_model_module": "@jupyter-widgets/base",
       "_model_module_version": "2.0.0",
       "_model_name": "LayoutModel",
       "_view_count": null,
       "_view_module": "@jupyter-widgets/base",
       "_view_module_version": "2.0.0",
       "_view_name": "LayoutView",
       "align_content": null,
       "align_items": null,
       "align_self": null,
       "border_bottom": null,
       "border_left": null,
       "border_right": null,
       "border_top": null,
       "bottom": null,
       "display": null,
       "flex": null,
       "flex_flow": null,
       "grid_area": null,
       "grid_auto_columns": null,
       "grid_auto_flow": null,
       "grid_auto_rows": null,
       "grid_column": null,
       "grid_gap": null,
       "grid_row": null,
       "grid_template_areas": null,
       "grid_template_columns": null,
       "grid_template_rows": null,
       "height": null,
       "justify_content": null,
       "justify_items": null,
       "left": null,
       "margin": null,
       "max_height": null,
       "max_width": null,
       "min_height": null,
       "min_width": null,
       "object_fit": null,
       "object_position": null,
       "order": null,
       "overflow": null,
       "padding": null,
       "right": null,
       "top": null,
       "visibility": null,
       "width": null
      }
     },
     "ffb22646843648a38129a76a5a1da5ad": {
      "model_module": "@jupyter-widgets/controls",
      "model_module_version": "2.0.0",
      "model_name": "HBoxModel",
      "state": {
       "_dom_classes": [],
       "_model_module": "@jupyter-widgets/controls",
       "_model_module_version": "2.0.0",
       "_model_name": "HBoxModel",
       "_view_count": null,
       "_view_module": "@jupyter-widgets/controls",
       "_view_module_version": "2.0.0",
       "_view_name": "HBoxView",
       "box_style": "",
       "children": [
        "IPY_MODEL_072ce7f46970443188bf61d18f2af949",
        "IPY_MODEL_9b4dd88895204956a4dc4f84ad516967",
        "IPY_MODEL_1a85671f2a4f43cf98a353caeafeccea"
       ],
       "layout": "IPY_MODEL_ad2358d82fc34c5693636768e6baae8a",
       "tabbable": null,
       "tooltip": null
      }
     }
    },
    "version_major": 2,
    "version_minor": 0
   }
  }
 },
 "nbformat": 4,
 "nbformat_minor": 5
}
