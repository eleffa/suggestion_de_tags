{
 "cells": [
  {
   "cell_type": "code",
   "execution_count": 1,
   "id": "9e135502",
   "metadata": {
    "_cell_guid": "b1076dfc-b9ad-4769-8c92-a6c4dae69d19",
    "_uuid": "8f2839f25d086af736a60e9eeb907d3b93b6e0e5",
    "execution": {
     "iopub.execute_input": "2024-12-12T10:26:23.670969Z",
     "iopub.status.busy": "2024-12-12T10:26:23.670180Z",
     "iopub.status.idle": "2024-12-12T10:26:24.500335Z",
     "shell.execute_reply": "2024-12-12T10:26:24.499035Z"
    },
    "papermill": {
     "duration": 0.83747,
     "end_time": "2024-12-12T10:26:24.502563",
     "exception": false,
     "start_time": "2024-12-12T10:26:23.665093",
     "status": "completed"
    },
    "tags": []
   },
   "outputs": [
    {
     "name": "stdout",
     "output_type": "stream",
     "text": [
      "/kaggle/input/queryresults/QueryResults.csv\n"
     ]
    }
   ],
   "source": [
    "# This Python 3 environment comes with many helpful analytics libraries installed\n",
    "# It is defined by the kaggle/python Docker image: https://github.com/kaggle/docker-python\n",
    "# For example, here's several helpful packages to load\n",
    "\n",
    "import numpy as np # linear algebra\n",
    "import pandas as pd # data processing, CSV file I/O (e.g. pd.read_csv)\n",
    "\n",
    "# Input data files are available in the read-only \"../input/\" directory\n",
    "# For example, running this (by clicking run or pressing Shift+Enter) will list all files under the input directory\n",
    "\n",
    "import os\n",
    "for dirname, _, filenames in os.walk('/kaggle/input'):\n",
    "    for filename in filenames:\n",
    "        print(os.path.join(dirname, filename))\n",
    "\n",
    "# You can write up to 20GB to the current directory (/kaggle/working/) that gets preserved as output when you create a version using \"Save & Run All\" \n",
    "# You can also write temporary files to /kaggle/temp/, but they won't be saved outside of the current session"
   ]
  },
  {
   "cell_type": "markdown",
   "id": "ad114cb8",
   "metadata": {
    "papermill": {
     "duration": 0.002698,
     "end_time": "2024-12-12T10:26:24.508552",
     "exception": false,
     "start_time": "2024-12-12T10:26:24.505854",
     "status": "completed"
    },
    "tags": []
   },
   "source": [
    "Stack Overflow is a question-and-answer website for computer programmers.\r\n",
    "It was created in 2008. It features questions and answers on certain computer programming topics.\r\n",
    "As of March 2024 Stack Overflow has over 23 million registered users and has received over 24 million questions and 35 million answers.\r\n",
    "\r\n",
    "\r\n",
    "For a dataset of 10,000 question-answer pairs, we propose to:\r\n",
    "\r\n",
    "Perform document prepro\n",
    "essing\r\n",
    "Compare different LLM approaches (such as Gemini) to pred\n",
    "ct tags\r\n",
    "Implement, in the form of an API, a tag suggestion system for the site, ensuring that the questions are well-referenced and can be easily retrieved."
   ]
  },
  {
   "cell_type": "code",
   "execution_count": 2,
   "id": "cae5cb66",
   "metadata": {
    "execution": {
     "iopub.execute_input": "2024-12-12T10:26:24.516032Z",
     "iopub.status.busy": "2024-12-12T10:26:24.515523Z",
     "iopub.status.idle": "2024-12-12T10:26:38.542220Z",
     "shell.execute_reply": "2024-12-12T10:26:38.541024Z"
    },
    "papermill": {
     "duration": 14.033328,
     "end_time": "2024-12-12T10:26:38.544738",
     "exception": false,
     "start_time": "2024-12-12T10:26:24.511410",
     "status": "completed"
    },
    "tags": []
   },
   "outputs": [
    {
     "name": "stdout",
     "output_type": "stream",
     "text": [
      "Collecting swifter\r\n",
      "  Downloading swifter-1.4.0.tar.gz (1.2 MB)\r\n",
      "\u001b[2K     \u001b[90m━━━━━━━━━━━━━━━━━━━━━━━━━━━━━━━━━━━━━━━━\u001b[0m \u001b[32m1.2/1.2 MB\u001b[0m \u001b[31m15.1 MB/s\u001b[0m eta \u001b[36m0:00:00\u001b[0m\r\n",
      "\u001b[?25h  Preparing metadata (setup.py) ... \u001b[?25l-\b \b\\\b \bdone\r\n",
      "\u001b[?25hRequirement already satisfied: pandas>=1.0.0 in /opt/conda/lib/python3.10/site-packages (from swifter) (2.2.3)\r\n",
      "Requirement already satisfied: psutil>=5.6.6 in /opt/conda/lib/python3.10/site-packages (from swifter) (5.9.3)\r\n",
      "Requirement already satisfied: dask>=2.10.0 in /opt/conda/lib/python3.10/site-packages (from dask[dataframe]>=2.10.0->swifter) (2024.11.2)\r\n",
      "Requirement already satisfied: tqdm>=4.33.0 in /opt/conda/lib/python3.10/site-packages (from swifter) (4.66.4)\r\n",
      "Requirement already satisfied: click>=8.1 in /opt/conda/lib/python3.10/site-packages (from dask>=2.10.0->dask[dataframe]>=2.10.0->swifter) (8.1.7)\r\n",
      "Requirement already satisfied: cloudpickle>=3.0.0 in /opt/conda/lib/python3.10/site-packages (from dask>=2.10.0->dask[dataframe]>=2.10.0->swifter) (3.1.0)\r\n",
      "Requirement already satisfied: fsspec>=2021.09.0 in /opt/conda/lib/python3.10/site-packages (from dask>=2.10.0->dask[dataframe]>=2.10.0->swifter) (2024.9.0)\r\n",
      "Requirement already satisfied: packaging>=20.0 in /opt/conda/lib/python3.10/site-packages (from dask>=2.10.0->dask[dataframe]>=2.10.0->swifter) (21.3)\r\n",
      "Requirement already satisfied: partd>=1.4.0 in /opt/conda/lib/python3.10/site-packages (from dask>=2.10.0->dask[dataframe]>=2.10.0->swifter) (1.4.2)\r\n",
      "Requirement already satisfied: pyyaml>=5.3.1 in /opt/conda/lib/python3.10/site-packages (from dask>=2.10.0->dask[dataframe]>=2.10.0->swifter) (6.0.2)\r\n",
      "Requirement already satisfied: toolz>=0.10.0 in /opt/conda/lib/python3.10/site-packages (from dask>=2.10.0->dask[dataframe]>=2.10.0->swifter) (0.12.1)\r\n",
      "Requirement already satisfied: importlib-metadata>=4.13.0 in /opt/conda/lib/python3.10/site-packages (from dask>=2.10.0->dask[dataframe]>=2.10.0->swifter) (7.0.0)\r\n",
      "Requirement already satisfied: dask-expr<1.2,>=1.1 in /opt/conda/lib/python3.10/site-packages (from dask[dataframe]>=2.10.0->swifter) (1.1.19)\r\n",
      "Requirement already satisfied: numpy>=1.22.4 in /opt/conda/lib/python3.10/site-packages (from pandas>=1.0.0->swifter) (1.26.4)\r\n",
      "Requirement already satisfied: python-dateutil>=2.8.2 in /opt/conda/lib/python3.10/site-packages (from pandas>=1.0.0->swifter) (2.9.0.post0)\r\n",
      "Requirement already satisfied: pytz>=2020.1 in /opt/conda/lib/python3.10/site-packages (from pandas>=1.0.0->swifter) (2024.1)\r\n",
      "Requirement already satisfied: tzdata>=2022.7 in /opt/conda/lib/python3.10/site-packages (from pandas>=1.0.0->swifter) (2024.1)\r\n",
      "Requirement already satisfied: pyarrow>=14.0.1 in /opt/conda/lib/python3.10/site-packages (from dask-expr<1.2,>=1.1->dask[dataframe]>=2.10.0->swifter) (18.1.0)\r\n",
      "Requirement already satisfied: zipp>=0.5 in /opt/conda/lib/python3.10/site-packages (from importlib-metadata>=4.13.0->dask>=2.10.0->dask[dataframe]>=2.10.0->swifter) (3.19.2)\r\n",
      "Requirement already satisfied: pyparsing!=3.0.5,>=2.0.2 in /opt/conda/lib/python3.10/site-packages (from packaging>=20.0->dask>=2.10.0->dask[dataframe]>=2.10.0->swifter) (3.1.2)\r\n",
      "Requirement already satisfied: locket in /opt/conda/lib/python3.10/site-packages (from partd>=1.4.0->dask>=2.10.0->dask[dataframe]>=2.10.0->swifter) (1.0.0)\r\n",
      "Requirement already satisfied: six>=1.5 in /opt/conda/lib/python3.10/site-packages (from python-dateutil>=2.8.2->pandas>=1.0.0->swifter) (1.16.0)\r\n",
      "Building wheels for collected packages: swifter\r\n",
      "  Building wheel for swifter (setup.py) ... \u001b[?25l-\b \b\\\b \b|\b \bdone\r\n",
      "\u001b[?25h  Created wheel for swifter: filename=swifter-1.4.0-py3-none-any.whl size=16507 sha256=cff8cbd0a0ac3bf04891e3b8253e02783c1c180f1cef427433639817450be018\r\n",
      "  Stored in directory: /root/.cache/pip/wheels/e4/cf/51/0904952972ee2c7aa3709437065278dc534ec1b8d2ad41b443\r\n",
      "Successfully built swifter\r\n",
      "Installing collected packages: swifter\r\n",
      "Successfully installed swifter-1.4.0\r\n"
     ]
    }
   ],
   "source": [
    "!pip install swifter"
   ]
  },
  {
   "cell_type": "code",
   "execution_count": 3,
   "id": "e3a6e3b8",
   "metadata": {
    "execution": {
     "iopub.execute_input": "2024-12-12T10:26:38.554919Z",
     "iopub.status.busy": "2024-12-12T10:26:38.554484Z",
     "iopub.status.idle": "2024-12-12T10:27:01.827228Z",
     "shell.execute_reply": "2024-12-12T10:27:01.826138Z"
    },
    "papermill": {
     "duration": 23.280775,
     "end_time": "2024-12-12T10:27:01.829728",
     "exception": false,
     "start_time": "2024-12-12T10:26:38.548953",
     "status": "completed"
    },
    "tags": []
   },
   "outputs": [],
   "source": [
    "import pandas as pd\n",
    "from transformers import pipeline\n",
    "import swifter"
   ]
  },
  {
   "cell_type": "code",
   "execution_count": 4,
   "id": "b73d437a",
   "metadata": {
    "execution": {
     "iopub.execute_input": "2024-12-12T10:27:01.839953Z",
     "iopub.status.busy": "2024-12-12T10:27:01.839530Z",
     "iopub.status.idle": "2024-12-12T10:27:03.419152Z",
     "shell.execute_reply": "2024-12-12T10:27:03.418057Z"
    },
    "papermill": {
     "duration": 1.587433,
     "end_time": "2024-12-12T10:27:03.421494",
     "exception": false,
     "start_time": "2024-12-12T10:27:01.834061",
     "status": "completed"
    },
    "tags": []
   },
   "outputs": [
    {
     "data": {
      "text/plain": [
       "46500"
      ]
     },
     "execution_count": 4,
     "metadata": {},
     "output_type": "execute_result"
    }
   ],
   "source": [
    "df = pd.read_csv(\"/kaggle/input/queryresults/QueryResults.csv\")\n",
    "df.shape[0]"
   ]
  },
  {
   "cell_type": "code",
   "execution_count": 5,
   "id": "4f0ec1d9",
   "metadata": {
    "execution": {
     "iopub.execute_input": "2024-12-12T10:27:03.431871Z",
     "iopub.status.busy": "2024-12-12T10:27:03.431445Z",
     "iopub.status.idle": "2024-12-12T10:27:03.455056Z",
     "shell.execute_reply": "2024-12-12T10:27:03.453986Z"
    },
    "papermill": {
     "duration": 0.031536,
     "end_time": "2024-12-12T10:27:03.457435",
     "exception": false,
     "start_time": "2024-12-12T10:27:03.425899",
     "status": "completed"
    },
    "tags": []
   },
   "outputs": [
    {
     "data": {
      "text/html": [
       "<div>\n",
       "<style scoped>\n",
       "    .dataframe tbody tr th:only-of-type {\n",
       "        vertical-align: middle;\n",
       "    }\n",
       "\n",
       "    .dataframe tbody tr th {\n",
       "        vertical-align: top;\n",
       "    }\n",
       "\n",
       "    .dataframe thead th {\n",
       "        text-align: right;\n",
       "    }\n",
       "</style>\n",
       "<table border=\"1\" class=\"dataframe\">\n",
       "  <thead>\n",
       "    <tr style=\"text-align: right;\">\n",
       "      <th></th>\n",
       "      <th>Id</th>\n",
       "      <th>CreationDate</th>\n",
       "      <th>Score</th>\n",
       "      <th>ViewCount</th>\n",
       "      <th>AnswerCount</th>\n",
       "      <th>CommentCount</th>\n",
       "      <th>FavoriteCount</th>\n",
       "      <th>Title</th>\n",
       "      <th>Body</th>\n",
       "      <th>Tags</th>\n",
       "    </tr>\n",
       "  </thead>\n",
       "  <tbody>\n",
       "    <tr>\n",
       "      <th>0</th>\n",
       "      <td>4</td>\n",
       "      <td>2008-07-31 21:42:52</td>\n",
       "      <td>795</td>\n",
       "      <td>72107</td>\n",
       "      <td>13</td>\n",
       "      <td>4</td>\n",
       "      <td>0.0</td>\n",
       "      <td>How to convert Decimal to Double in C#?</td>\n",
       "      <td>&lt;p&gt;I want to assign the decimal variable &amp;quot...</td>\n",
       "      <td>&lt;c#&gt;&lt;floating-point&gt;&lt;type-conversion&gt;&lt;double&gt;&lt;...</td>\n",
       "    </tr>\n",
       "    <tr>\n",
       "      <th>1</th>\n",
       "      <td>6</td>\n",
       "      <td>2008-07-31 22:08:08</td>\n",
       "      <td>319</td>\n",
       "      <td>23741</td>\n",
       "      <td>7</td>\n",
       "      <td>0</td>\n",
       "      <td>0.0</td>\n",
       "      <td>Why did the width collapse in the percentage w...</td>\n",
       "      <td>&lt;p&gt;I have an absolutely positioned &lt;code&gt;div&lt;/...</td>\n",
       "      <td>&lt;html&gt;&lt;css&gt;&lt;internet-explorer-7&gt;</td>\n",
       "    </tr>\n",
       "    <tr>\n",
       "      <th>2</th>\n",
       "      <td>9</td>\n",
       "      <td>2008-07-31 23:40:59</td>\n",
       "      <td>2211</td>\n",
       "      <td>797370</td>\n",
       "      <td>74</td>\n",
       "      <td>10</td>\n",
       "      <td>0.0</td>\n",
       "      <td>How do I calculate someone's age based on a Da...</td>\n",
       "      <td>&lt;p&gt;Given a &lt;code&gt;DateTime&lt;/code&gt; representing ...</td>\n",
       "      <td>&lt;c#&gt;&lt;.net&gt;&lt;datetime&gt;</td>\n",
       "    </tr>\n",
       "    <tr>\n",
       "      <th>3</th>\n",
       "      <td>11</td>\n",
       "      <td>2008-07-31 23:55:37</td>\n",
       "      <td>1645</td>\n",
       "      <td>198982</td>\n",
       "      <td>41</td>\n",
       "      <td>3</td>\n",
       "      <td>0.0</td>\n",
       "      <td>Calculate relative time in C#</td>\n",
       "      <td>&lt;p&gt;Given a specific &lt;code&gt;DateTime&lt;/code&gt; valu...</td>\n",
       "      <td>&lt;c#&gt;&lt;datetime&gt;&lt;time&gt;&lt;datediff&gt;&lt;relative-time-s...</td>\n",
       "    </tr>\n",
       "    <tr>\n",
       "      <th>4</th>\n",
       "      <td>13</td>\n",
       "      <td>2008-08-01 00:42:38</td>\n",
       "      <td>704</td>\n",
       "      <td>285740</td>\n",
       "      <td>27</td>\n",
       "      <td>10</td>\n",
       "      <td>0.0</td>\n",
       "      <td>Determine a user's timezone</td>\n",
       "      <td>&lt;p&gt;Is there a standard way for a web server to...</td>\n",
       "      <td>&lt;html&gt;&lt;browser&gt;&lt;timezone&gt;&lt;user-agent&gt;&lt;timezone...</td>\n",
       "    </tr>\n",
       "  </tbody>\n",
       "</table>\n",
       "</div>"
      ],
      "text/plain": [
       "   Id         CreationDate  Score  ViewCount  AnswerCount  CommentCount  \\\n",
       "0   4  2008-07-31 21:42:52    795      72107           13             4   \n",
       "1   6  2008-07-31 22:08:08    319      23741            7             0   \n",
       "2   9  2008-07-31 23:40:59   2211     797370           74            10   \n",
       "3  11  2008-07-31 23:55:37   1645     198982           41             3   \n",
       "4  13  2008-08-01 00:42:38    704     285740           27            10   \n",
       "\n",
       "   FavoriteCount                                              Title  \\\n",
       "0            0.0            How to convert Decimal to Double in C#?   \n",
       "1            0.0  Why did the width collapse in the percentage w...   \n",
       "2            0.0  How do I calculate someone's age based on a Da...   \n",
       "3            0.0                      Calculate relative time in C#   \n",
       "4            0.0                        Determine a user's timezone   \n",
       "\n",
       "                                                Body  \\\n",
       "0  <p>I want to assign the decimal variable &quot...   \n",
       "1  <p>I have an absolutely positioned <code>div</...   \n",
       "2  <p>Given a <code>DateTime</code> representing ...   \n",
       "3  <p>Given a specific <code>DateTime</code> valu...   \n",
       "4  <p>Is there a standard way for a web server to...   \n",
       "\n",
       "                                                Tags  \n",
       "0  <c#><floating-point><type-conversion><double><...  \n",
       "1                   <html><css><internet-explorer-7>  \n",
       "2                               <c#><.net><datetime>  \n",
       "3  <c#><datetime><time><datediff><relative-time-s...  \n",
       "4  <html><browser><timezone><user-agent><timezone...  "
      ]
     },
     "execution_count": 5,
     "metadata": {},
     "output_type": "execute_result"
    }
   ],
   "source": [
    "df.head()"
   ]
  },
  {
   "cell_type": "markdown",
   "id": "366be2fd",
   "metadata": {
    "papermill": {
     "duration": 0.005226,
     "end_time": "2024-12-12T10:27:03.467242",
     "exception": false,
     "start_time": "2024-12-12T10:27:03.462016",
     "status": "completed"
    },
    "tags": []
   },
   "source": [
    "## Nettoyage des tags"
   ]
  },
  {
   "cell_type": "code",
   "execution_count": 6,
   "id": "690cc018",
   "metadata": {
    "execution": {
     "iopub.execute_input": "2024-12-12T10:27:03.478117Z",
     "iopub.status.busy": "2024-12-12T10:27:03.477153Z",
     "iopub.status.idle": "2024-12-12T10:27:03.570053Z",
     "shell.execute_reply": "2024-12-12T10:27:03.568912Z"
    },
    "papermill": {
     "duration": 0.100874,
     "end_time": "2024-12-12T10:27:03.572430",
     "exception": false,
     "start_time": "2024-12-12T10:27:03.471556",
     "status": "completed"
    },
    "tags": []
   },
   "outputs": [
    {
     "data": {
      "text/plain": [
       "0        [c#, floating-point, type-conversion, double, ...\n",
       "1                       [html, css, internet-explorer-7, ]\n",
       "2                                   [c#, .net, datetime, ]\n",
       "3        [c#, datetime, time, datediff, relative-time-s...\n",
       "4        [html, browser, timezone, user-agent, timezone...\n",
       "                               ...                        \n",
       "46495                                 [flash, swfobject, ]\n",
       "46496         [python, django, dynamic, methods, lambda, ]\n",
       "46497              [http, caching, etag, expires-header, ]\n",
       "46498              [perl, algorithm, string, similarity, ]\n",
       "46499    [algorithm, data-structures, binary-search-tre...\n",
       "Name: Tags, Length: 46500, dtype: object"
      ]
     },
     "execution_count": 6,
     "metadata": {},
     "output_type": "execute_result"
    }
   ],
   "source": [
    "df['Tags'] = df['Tags'].apply(lambda x : x.replace('<', ''))\n",
    "df['Tags'] = df['Tags'].apply(lambda x : x.replace('>', ','))\n",
    "df['Tags'] = df['Tags'].apply(lambda x : x.split(','))\n",
    "df['Tags']"
   ]
  },
  {
   "cell_type": "markdown",
   "id": "e2275ae4",
   "metadata": {
    "papermill": {
     "duration": 0.004548,
     "end_time": "2024-12-12T10:27:03.581705",
     "exception": false,
     "start_time": "2024-12-12T10:27:03.577157",
     "status": "completed"
    },
    "tags": []
   },
   "source": [
    "# Nettoyage des titres"
   ]
  },
  {
   "cell_type": "code",
   "execution_count": null,
   "id": "3119500f",
   "metadata": {
    "papermill": {
     "duration": 0.004776,
     "end_time": "2024-12-12T10:27:03.591079",
     "exception": false,
     "start_time": "2024-12-12T10:27:03.586303",
     "status": "completed"
    },
    "tags": []
   },
   "outputs": [],
   "source": []
  },
  {
   "cell_type": "markdown",
   "id": "b72b4993",
   "metadata": {
    "papermill": {
     "duration": 0.004547,
     "end_time": "2024-12-12T10:27:03.600507",
     "exception": false,
     "start_time": "2024-12-12T10:27:03.595960",
     "status": "completed"
    },
    "tags": []
   },
   "source": [
    "# Nettoyage du body"
   ]
  },
  {
   "cell_type": "code",
   "execution_count": null,
   "id": "4c03cbd4",
   "metadata": {
    "papermill": {
     "duration": 0.004457,
     "end_time": "2024-12-12T10:27:03.609720",
     "exception": false,
     "start_time": "2024-12-12T10:27:03.605263",
     "status": "completed"
    },
    "tags": []
   },
   "outputs": [],
   "source": []
  }
 ],
 "metadata": {
  "kaggle": {
   "accelerator": "none",
   "dataSources": [
    {
     "datasetId": 6287476,
     "sourceId": 10179061,
     "sourceType": "datasetVersion"
    }
   ],
   "dockerImageVersionId": 30804,
   "isGpuEnabled": false,
   "isInternetEnabled": true,
   "language": "python",
   "sourceType": "notebook"
  },
  "kernelspec": {
   "display_name": "Python 3",
   "language": "python",
   "name": "python3"
  },
  "language_info": {
   "codemirror_mode": {
    "name": "ipython",
    "version": 3
   },
   "file_extension": ".py",
   "mimetype": "text/x-python",
   "name": "python",
   "nbconvert_exporter": "python",
   "pygments_lexer": "ipython3",
   "version": "3.10.14"
  },
  "papermill": {
   "default_parameters": {},
   "duration": 45.487268,
   "end_time": "2024-12-12T10:27:06.567730",
   "environment_variables": {},
   "exception": null,
   "input_path": "__notebook__.ipynb",
   "output_path": "__notebook__.ipynb",
   "parameters": {},
   "start_time": "2024-12-12T10:26:21.080462",
   "version": "2.6.0"
  }
 },
 "nbformat": 4,
 "nbformat_minor": 5
}
